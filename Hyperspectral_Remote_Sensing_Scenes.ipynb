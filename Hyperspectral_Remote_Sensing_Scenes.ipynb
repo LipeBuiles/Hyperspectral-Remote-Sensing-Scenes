{
  "nbformat": 4,
  "nbformat_minor": 0,
  "metadata": {
    "colab": {
      "name": "Hyperspectral Remote Sensing Scenes.ipynb",
      "provenance": [],
      "collapsed_sections": []
    },
    "kernelspec": {
      "name": "python3",
      "display_name": "Python 3"
    }
  },
  "cells": [
    {
      "cell_type": "code",
      "metadata": {
        "id": "mzEiw9A1kVNZ",
        "colab_type": "code",
        "colab": {}
      },
      "source": [
        "import scipy.io as sio"
      ],
      "execution_count": null,
      "outputs": []
    },
    {
      "cell_type": "code",
      "metadata": {
        "id": "MRJFNg0con6y",
        "colab_type": "code",
        "colab": {}
      },
      "source": [
        "mat = sio.loadmat('Indian_pines.mat')"
      ],
      "execution_count": null,
      "outputs": []
    },
    {
      "cell_type": "code",
      "metadata": {
        "id": "E7FQ2vC1rl4S",
        "colab_type": "code",
        "colab": {}
      },
      "source": [
        "print(type(mat))"
      ],
      "execution_count": null,
      "outputs": []
    },
    {
      "cell_type": "code",
      "metadata": {
        "id": "BkOMZh7iotFL",
        "colab_type": "code",
        "colab": {}
      },
      "source": [
        "sio.whosmat('Indian_pines.mat')"
      ],
      "execution_count": null,
      "outputs": []
    }
  ]
}