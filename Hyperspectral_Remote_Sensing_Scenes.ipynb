{
  "nbformat": 4,
  "nbformat_minor": 0,
  "metadata": {
    "colab": {
      "name": "Hyperspectral Remote Sensing Scenes.ipynb",
      "provenance": [],
      "collapsed_sections": [],
      "mount_file_id": "https://github.com/elpinchepastel/Indian_Pines/blob/master/Hyperspectral_Remote_Sensing_Scenes.ipynb",
      "authorship_tag": "ABX9TyNfxsyO8U/Yno997B2aLmpY",
      "include_colab_link": true
    },
    "kernelspec": {
      "name": "python3",
      "display_name": "Python 3"
    },
    "accelerator": "GPU"
  },
  "cells": [
    {
      "cell_type": "markdown",
      "metadata": {
        "id": "view-in-github",
        "colab_type": "text"
      },
      "source": [
        "<a href=\"https://colab.research.google.com/github/elpinchepastel/Indian_Pines/blob/master/Hyperspectral_Remote_Sensing_Scenes.ipynb\" target=\"_parent\"><img src=\"https://colab.research.google.com/assets/colab-badge.svg\" alt=\"Open In Colab\"/></a>"
      ]
    },
    {
      "cell_type": "code",
      "metadata": {
        "id": "mzEiw9A1kVNZ",
        "colab_type": "code",
        "colab": {}
      },
      "source": [
        "import numpy as np\n",
        "import matplotlib.pyplot as plt\n",
        "import scipy.io\n",
        "import scipy.io as sio\n",
        "from scipy import stats, optimize, interpolate\n",
        "from scipy.io import loadmat"
      ],
      "execution_count": 64,
      "outputs": []
    },
    {
      "cell_type": "code",
      "metadata": {
        "id": "U_4KfD_k9v7y",
        "colab_type": "code",
        "colab": {
          "base_uri": "https://localhost:8080/",
          "height": 72
        },
        "outputId": "766d2303-8988-429b-ac63-96b9755b1a5b"
      },
      "source": [
        "annots = loadmat('/content/drive/My Drive/ITM/Indian Pines/Indian_pines_gt.mat')\n",
        "print(type(annots))\n",
        "print(annots.keys())\n",
        "print(type(annots['indian_pines_gt']),annots['indian_pines_gt'].shape)"
      ],
      "execution_count": 65,
      "outputs": [
        {
          "output_type": "stream",
          "text": [
            "<class 'dict'>\n",
            "dict_keys(['__header__', '__version__', '__globals__', 'indian_pines_gt'])\n",
            "<class 'numpy.ndarray'> (145, 145)\n"
          ],
          "name": "stdout"
        }
      ]
    },
    {
      "cell_type": "code",
      "metadata": {
        "id": "aM7ie0Xj-NGm",
        "colab_type": "code",
        "colab": {
          "base_uri": "https://localhost:8080/",
          "height": 72
        },
        "outputId": "c4c3755d-1e0d-4e18-bc9e-85973eb0ccbf"
      },
      "source": [
        "annots = loadmat('/content/drive/My Drive/ITM/Indian Pines/Indian_pines_corrected.mat')\n",
        "print(type(annots))\n",
        "print(annots.keys())\n",
        "print(type(annots['indian_pines_corrected']),annots['indian_pines_corrected'].shape)"
      ],
      "execution_count": 66,
      "outputs": [
        {
          "output_type": "stream",
          "text": [
            "<class 'dict'>\n",
            "dict_keys(['__header__', '__version__', '__globals__', 'indian_pines_corrected'])\n",
            "<class 'numpy.ndarray'> (145, 145, 200)\n"
          ],
          "name": "stdout"
        }
      ]
    },
    {
      "cell_type": "code",
      "metadata": {
        "id": "zCzr6E7D9tbO",
        "colab_type": "code",
        "colab": {
          "base_uri": "https://localhost:8080/",
          "height": 35
        },
        "outputId": "8167d60d-7189-4a10-bb7d-626a322df4ab"
      },
      "source": [
        "data = scipy.io.loadmat('/content/drive/My Drive/ITM/Indian Pines/Indian_pines_corrected.mat')['indian_pines_corrected']\n",
        "print(data.shape)"
      ],
      "execution_count": 67,
      "outputs": [
        {
          "output_type": "stream",
          "text": [
            "(145, 145, 200)\n"
          ],
          "name": "stdout"
        }
      ]
    },
    {
      "cell_type": "code",
      "metadata": {
        "id": "MRJFNg0con6y",
        "colab_type": "code",
        "colab": {
          "base_uri": "https://localhost:8080/",
          "height": 35
        },
        "outputId": "12156c47-23c1-48da-e7b4-b700c961830e"
      },
      "source": [
        "indian_pines_gt = scipy.io.loadmat('/content/drive/My Drive/ITM/Indian Pines/Indian_pines_gt.mat')['indian_pines_gt']\n",
        "print(indian_pines_gt.shape)"
      ],
      "execution_count": 68,
      "outputs": [
        {
          "output_type": "stream",
          "text": [
            "(145, 145)\n"
          ],
          "name": "stdout"
        }
      ]
    },
    {
      "cell_type": "code",
      "metadata": {
        "id": "E7FQ2vC1rl4S",
        "colab_type": "code",
        "colab": {
          "base_uri": "https://localhost:8080/",
          "height": 54
        },
        "outputId": "51f33c48-75ec-4f72-d564-e5ac27bbd997"
      },
      "source": [
        "print(type(data))\n",
        "print(type(indian_pines_gt))"
      ],
      "execution_count": 69,
      "outputs": [
        {
          "output_type": "stream",
          "text": [
            "<class 'numpy.ndarray'>\n",
            "<class 'numpy.ndarray'>\n"
          ],
          "name": "stdout"
        }
      ]
    },
    {
      "cell_type": "code",
      "metadata": {
        "id": "BkOMZh7iotFL",
        "colab_type": "code",
        "colab": {
          "base_uri": "https://localhost:8080/",
          "height": 35
        },
        "outputId": "9cfe0963-f477-410f-9ce4-587dde53e2df"
      },
      "source": [
        "sio.whosmat('/content/drive/My Drive/ITM/Indian Pines/Indian_pines_corrected.mat')"
      ],
      "execution_count": 70,
      "outputs": [
        {
          "output_type": "execute_result",
          "data": {
            "text/plain": [
              "[('indian_pines_corrected', (145, 145, 200), 'double')]"
            ]
          },
          "metadata": {
            "tags": []
          },
          "execution_count": 70
        }
      ]
    },
    {
      "cell_type": "code",
      "metadata": {
        "id": "CfC4pbx23rjA",
        "colab_type": "code",
        "colab": {
          "base_uri": "https://localhost:8080/",
          "height": 35
        },
        "outputId": "dc1bc787-b59b-4570-d600-ab8c899ad0e3"
      },
      "source": [
        "sio.whosmat('/content/drive/My Drive/ITM/Indian Pines/Indian_pines_gt.mat')"
      ],
      "execution_count": 71,
      "outputs": [
        {
          "output_type": "execute_result",
          "data": {
            "text/plain": [
              "[('indian_pines_gt', (145, 145), 'double')]"
            ]
          },
          "metadata": {
            "tags": []
          },
          "execution_count": 71
        }
      ]
    },
    {
      "cell_type": "code",
      "metadata": {
        "id": "KlZ9Cp3iZhja",
        "colab_type": "code",
        "colab": {
          "base_uri": "https://localhost:8080/",
          "height": 145
        },
        "outputId": "dcbb7f69-50eb-4d8e-b0a6-cb603f259015"
      },
      "source": [
        "print(indian_pines_gt)"
      ],
      "execution_count": 72,
      "outputs": [
        {
          "output_type": "stream",
          "text": [
            "[[3 3 3 ... 0 0 0]\n",
            " [3 3 3 ... 0 0 0]\n",
            " [3 3 3 ... 0 0 0]\n",
            " ...\n",
            " [0 0 0 ... 0 0 0]\n",
            " [0 0 0 ... 0 0 0]\n",
            " [0 0 0 ... 0 0 0]]\n"
          ],
          "name": "stdout"
        }
      ]
    },
    {
      "cell_type": "code",
      "metadata": {
        "id": "85IhiEV0aJz6",
        "colab_type": "code",
        "colab": {
          "base_uri": "https://localhost:8080/",
          "height": 908
        },
        "outputId": "8a8d0891-92d6-4568-f10e-d7fa915093cb"
      },
      "source": [
        "print(data)"
      ],
      "execution_count": 73,
      "outputs": [
        {
          "output_type": "stream",
          "text": [
            "[[[3172 4142 4506 ... 1057 1020 1020]\n",
            "  [2580 4266 4502 ... 1064 1029 1020]\n",
            "  [3687 4266 4421 ... 1061 1030 1016]\n",
            "  ...\n",
            "  [2570 3890 4320 ... 1042 1021 1015]\n",
            "  [3170 4130 4320 ... 1054 1024 1020]\n",
            "  [3172 3890 4316 ... 1043 1034 1016]]\n",
            "\n",
            " [[2576 4388 4334 ... 1047 1030 1006]\n",
            "  [2747 4264 4592 ... 1055 1039 1015]\n",
            "  [2750 4268 4423 ... 1047 1026 1015]\n",
            "  ...\n",
            "  [3859 4512 4605 ... 1056 1035 1015]\n",
            "  [3686 4264 4690 ... 1051 1012 1020]\n",
            "  [2744 4268 4597 ... 1047 1019 1016]]\n",
            "\n",
            " [[2744 4146 4416 ... 1055 1029 1025]\n",
            "  [2576 4389 4416 ... 1051 1021 1011]\n",
            "  [2744 4273 4420 ... 1068 1033 1010]\n",
            "  ...\n",
            "  [2570 4266 4509 ... 1051 1025 1010]\n",
            "  [2576 4262 4496 ... 1047 1029 1020]\n",
            "  [2742 4142 4230 ... 1042 1025 1011]]\n",
            "\n",
            " ...\n",
            "\n",
            " [[3324 3728 4002 ... 1003 1004 1004]\n",
            "  [2983 3604 3829 ... 1011 1013 1008]\n",
            "  [2988 3612 3913 ... 1012 1001 1004]\n",
            "  ...\n",
            "  [2564 4115 4103 ... 1003 1005 1013]\n",
            "  [2730 4111 4103 ... 1015 1013 1004]\n",
            "  [3156 3991 4103 ... 1017 1014 1000]]\n",
            "\n",
            " [[3161 3731 3834 ... 1002 1000 1000]\n",
            "  [2727 3742 4011 ...  999  991 1003]\n",
            "  [2988 4114 4011 ... 1006 1008 1013]\n",
            "  ...\n",
            "  [3156 3858 4016 ... 1011 1004 1003]\n",
            "  [3159 3858 4100 ... 1016 1000 1000]\n",
            "  [2561 3866 4003 ... 1008 1008 1000]]\n",
            "\n",
            " [[2979 3728 3732 ... 1006 1004 1000]\n",
            "  [2977 3728 3741 ... 1007 1009  990]\n",
            "  [2814 3728 3914 ...  999 1009 1003]\n",
            "  ...\n",
            "  [3153 3864 4282 ... 1003 1008 1000]\n",
            "  [3155 4104 4106 ... 1011 1005 1003]\n",
            "  [3323 3860 4197 ... 1007 1004 1000]]]\n"
          ],
          "name": "stdout"
        }
      ]
    },
    {
      "cell_type": "code",
      "metadata": {
        "id": "QFjhuz_M8KHJ",
        "colab_type": "code",
        "colab": {
          "base_uri": "https://localhost:8080/",
          "height": 270
        },
        "outputId": "02b48129-40ce-4bae-8d21-3d426614f181"
      },
      "source": [
        "plt.imshow(indian_pines_gt)\n",
        "plt.title('Groundtruth of Indian Pines dataset')\n",
        "plt.colorbar()\n",
        "plt.xticks([])\n",
        "plt.yticks([])\n",
        "plt.show()"
      ],
      "execution_count": 74,
      "outputs": [
        {
          "output_type": "display_data",
          "data": {
            "image/png": "[encoded data removed]",
            "text/plain": [
              "<Figure size 432x288 with 2 Axes>"
            ]
          },
          "metadata": {
            "tags": [],
            "needs_background": "light"
          }
        }
      ]
    },
    {
      "cell_type": "code",
      "metadata": {
        "id": "PD9lywNfqRjr",
        "colab_type": "code",
        "colab": {
          "base_uri": "https://localhost:8080/",
          "height": 270
        },
        "outputId": "061d77c4-f5b7-4f82-c251-61d2b629ceda"
      },
      "source": [
        "plt.imshow(indian_pines_gt, cmap = \"jet\", interpolation='nearest')\n",
        "plt.title('Groundtruth of Indian Pines dataset for property cmap = \"jet\"')\n",
        "plt.colorbar()\n",
        "plt.savefig('/content/drive/My Drive/ITM/Indian Pines/img/imagen1.png')\n",
        "\n",
        "plt.xticks([])\n",
        "plt.yticks([])\n",
        "plt.show()"
      ],
      "execution_count": 75,
      "outputs": [
        {
          "output_type": "display_data",
          "data": {
            "image/png": "[encoded data removed]",
            "text/plain": [
              "<Figure size 432x288 with 2 Axes>"
            ]
          },
          "metadata": {
            "tags": [],
            "needs_background": "light"
          }
        }
      ]
    },
    {
      "cell_type": "code",
      "metadata": {
        "id": "9aEebMTgx5Sa",
        "colab_type": "code",
        "colab": {}
      },
      "source": [
        "#from IPython.display import Image\n",
        "#Image('/content/drive/My Drive/ITM/Indian Pines/img/imagen.png')"
      ],
      "execution_count": 76,
      "outputs": []
    },
    {
      "cell_type": "code",
      "metadata": {
        "id": "x-7Lv1uJzQUB",
        "colab_type": "code",
        "colab": {
          "base_uri": "https://localhost:8080/",
          "height": 324
        },
        "outputId": "67596591-6d1c-4c9b-e9dc-521357777aaa"
      },
      "source": [
        "print('Enter the band number of the image you want to view (The number to be between 0 and 199): ')\n",
        "count = int(input())\n",
        "one_band = data[:, :, count]\n",
        "plt.imshow(one_band, cmap = \"jet\", interpolation='nearest')\n",
        "print(one_band.shape)"
      ],
      "execution_count": 77,
      "outputs": [
        {
          "output_type": "stream",
          "text": [
            "Enter the band number of the image you want to view (The number to be between 0 and 199): \n",
            "1\n",
            "(145, 145)\n"
          ],
          "name": "stdout"
        },
        {
          "output_type": "display_data",
          "data": {
            "image/png": "[encoded data removed]",
            "text/plain": [
              "<Figure size 432x288 with 1 Axes>"
            ]
          },
          "metadata": {
            "tags": [],
            "needs_background": "light"
          }
        }
      ]
    },
    {
      "cell_type": "code",
      "metadata": {
        "id": "lvH8y6Hp1zav",
        "colab_type": "code",
        "colab": {}
      },
      "source": [
        "data = data.transpose((2, 0, 1))"
      ],
      "execution_count": 78,
      "outputs": []
    },
    {
      "cell_type": "code",
      "metadata": {
        "id": "4MLnGf9z12Y6",
        "colab_type": "code",
        "colab": {
          "base_uri": "https://localhost:8080/",
          "height": 35
        },
        "outputId": "d44bccf9-6be5-46b6-a081-9d761fd30d54"
      },
      "source": [
        "print(data.shape)"
      ],
      "execution_count": 79,
      "outputs": [
        {
          "output_type": "stream",
          "text": [
            "(200, 145, 145)\n"
          ],
          "name": "stdout"
        }
      ]
    },
    {
      "cell_type": "code",
      "metadata": {
        "id": "jNmU27Vc16Ft",
        "colab_type": "code",
        "colab": {}
      },
      "source": [
        "array_expand = data[:,0,:]\n",
        "for i_row in range(1, data.shape[1]):\n",
        "    tempmatirx = data[:,i_row,:]\n",
        "    array_expand = np.hstack((array_expand,tempmatirx))"
      ],
      "execution_count": 80,
      "outputs": []
    },
    {
      "cell_type": "code",
      "metadata": {
        "id": "eV_tbZO33sYu",
        "colab_type": "code",
        "colab": {
          "base_uri": "https://localhost:8080/",
          "height": 35
        },
        "outputId": "d2be7032-3e38-4ce8-c979-f65c138d3dbf"
      },
      "source": [
        "print(array_expand.shape)"
      ],
      "execution_count": 81,
      "outputs": [
        {
          "output_type": "stream",
          "text": [
            "(200, 21025)\n"
          ],
          "name": "stdout"
        }
      ]
    },
    {
      "cell_type": "code",
      "metadata": {
        "id": "SoVC42Kx6DXs",
        "colab_type": "code",
        "colab": {
          "base_uri": "https://localhost:8080/",
          "height": 145
        },
        "outputId": "74a536ef-df48-405d-ce1b-034d2f1a9bc0"
      },
      "source": [
        "print(array_expand)"
      ],
      "execution_count": 82,
      "outputs": [
        {
          "output_type": "stream",
          "text": [
            "[[3172 2580 3687 ... 3153 3155 3323]\n",
            " [4142 4266 4266 ... 3864 4104 3860]\n",
            " [4506 4502 4421 ... 4282 4106 4197]\n",
            " ...\n",
            " [1057 1064 1061 ... 1003 1011 1007]\n",
            " [1020 1029 1030 ... 1008 1005 1004]\n",
            " [1020 1020 1016 ... 1000 1003 1000]]\n"
          ],
          "name": "stdout"
        }
      ]
    },
    {
      "cell_type": "code",
      "metadata": {
        "id": "ioM_-Nmz6Hcr",
        "colab_type": "code",
        "colab": {
          "base_uri": "https://localhost:8080/",
          "height": 35
        },
        "outputId": "df780587-6e68-4c18-9835-8bc06f113838"
      },
      "source": [
        "array_expand = array_expand.transpose((1, 0))\n",
        "print(array_expand.shape)"
      ],
      "execution_count": 84,
      "outputs": [
        {
          "output_type": "stream",
          "text": [
            "(21025, 200)\n"
          ],
          "name": "stdout"
        }
      ]
    },
    {
      "cell_type": "code",
      "metadata": {
        "id": "ewHsvQBr7DsA",
        "colab_type": "code",
        "colab": {
          "base_uri": "https://localhost:8080/",
          "height": 145
        },
        "outputId": "471cf70b-4035-43e4-f628-bbd4f1264c33"
      },
      "source": [
        "print(array_expand)"
      ],
      "execution_count": 86,
      "outputs": [
        {
          "output_type": "stream",
          "text": [
            "[[3172 4142 4506 ... 1057 1020 1020]\n",
            " [2580 4266 4502 ... 1064 1029 1020]\n",
            " [3687 4266 4421 ... 1061 1030 1016]\n",
            " ...\n",
            " [3153 3864 4282 ... 1003 1008 1000]\n",
            " [3155 4104 4106 ... 1011 1005 1003]\n",
            " [3323 3860 4197 ... 1007 1004 1000]]\n"
          ],
          "name": "stdout"
        }
      ]
    }
  ]
}