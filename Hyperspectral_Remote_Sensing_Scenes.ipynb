{
  "nbformat": 4,
  "nbformat_minor": 0,
  "metadata": {
    "colab": {
      "name": "Hyperspectral Remote Sensing Scenes.ipynb",
      "provenance": [],
      "collapsed_sections": [],
      "mount_file_id": "https://github.com/elpinchepastel/Indian_Pines/blob/master/Hyperspectral_Remote_Sensing_Scenes.ipynb",
      "authorship_tag": "ABX9TyOfy66JUYnR/r20eBLFC4r/",
      "include_colab_link": true
    },
    "kernelspec": {
      "name": "python3",
      "display_name": "Python 3"
    },
    "accelerator": "GPU"
  },
  "cells": [
    {
      "cell_type": "markdown",
      "metadata": {
        "id": "view-in-github",
        "colab_type": "text"
      },
      "source": [
        "<a href=\"https://colab.research.google.com/github/elpinchepastel/Indian_Pines/blob/master/Hyperspectral_Remote_Sensing_Scenes.ipynb\" target=\"_parent\"><img src=\"https://colab.research.google.com/assets/colab-badge.svg\" alt=\"Open In Colab\"/></a>"
      ]
    },
    {
      "cell_type": "code",
      "metadata": {
        "id": "mzEiw9A1kVNZ",
        "colab_type": "code",
        "colab": {}
      },
      "source": [
        "import numpy as np\n",
        "import matplotlib.pyplot as plt\n",
        "import scipy.io\n",
        "import scipy.io as sio\n",
        "from scipy import stats, optimize, interpolate\n",
        "from scipy.io import loadmat\n",
        "import sklearn.preprocessing as sp\n",
        "from sklearn.decomposition import PCA"
      ],
      "execution_count": 1,
      "outputs": []
    },
    {
      "cell_type": "code",
      "metadata": {
        "id": "U_4KfD_k9v7y",
        "colab_type": "code",
        "colab": {
          "base_uri": "https://localhost:8080/",
          "height": 72
        },
        "outputId": "25668382-632a-4950-ea4b-9f74e6cecf32"
      },
      "source": [
        "annots = loadmat('/content/drive/My Drive/ITM/Indian Pines/Indian_pines_gt.mat')\n",
        "print(type(annots))\n",
        "print(annots.keys())\n",
        "print(type(annots['indian_pines_gt']),annots['indian_pines_gt'].shape)"
      ],
      "execution_count": 2,
      "outputs": [
        {
          "output_type": "stream",
          "text": [
            "<class 'dict'>\n",
            "dict_keys(['__header__', '__version__', '__globals__', 'indian_pines_gt'])\n",
            "<class 'numpy.ndarray'> (145, 145)\n"
          ],
          "name": "stdout"
        }
      ]
    },
    {
      "cell_type": "code",
      "metadata": {
        "id": "aM7ie0Xj-NGm",
        "colab_type": "code",
        "colab": {
          "base_uri": "https://localhost:8080/",
          "height": 72
        },
        "outputId": "7fd42d37-00de-4dd2-b065-50f2480bae71"
      },
      "source": [
        "annots = loadmat('/content/drive/My Drive/ITM/Indian Pines/Indian_pines_corrected.mat')\n",
        "print(type(annots))\n",
        "print(annots.keys())\n",
        "print(type(annots['indian_pines_corrected']),annots['indian_pines_corrected'].shape)"
      ],
      "execution_count": 3,
      "outputs": [
        {
          "output_type": "stream",
          "text": [
            "<class 'dict'>\n",
            "dict_keys(['__header__', '__version__', '__globals__', 'indian_pines_corrected'])\n",
            "<class 'numpy.ndarray'> (145, 145, 200)\n"
          ],
          "name": "stdout"
        }
      ]
    },
    {
      "cell_type": "code",
      "metadata": {
        "id": "zCzr6E7D9tbO",
        "colab_type": "code",
        "colab": {
          "base_uri": "https://localhost:8080/",
          "height": 35
        },
        "outputId": "e6c021ea-e565-4409-eb40-fcf31bb5c5bd"
      },
      "source": [
        "data = scipy.io.loadmat('/content/drive/My Drive/ITM/Indian Pines/Indian_pines_corrected.mat')['indian_pines_corrected']\n",
        "print(data.shape)"
      ],
      "execution_count": 4,
      "outputs": [
        {
          "output_type": "stream",
          "text": [
            "(145, 145, 200)\n"
          ],
          "name": "stdout"
        }
      ]
    },
    {
      "cell_type": "code",
      "metadata": {
        "id": "MRJFNg0con6y",
        "colab_type": "code",
        "colab": {
          "base_uri": "https://localhost:8080/",
          "height": 35
        },
        "outputId": "ef7fc50c-0198-4f28-e18b-741de9926272"
      },
      "source": [
        "indian_pines_gt = scipy.io.loadmat('/content/drive/My Drive/ITM/Indian Pines/Indian_pines_gt.mat')['indian_pines_gt']\n",
        "print(indian_pines_gt.shape)"
      ],
      "execution_count": 5,
      "outputs": [
        {
          "output_type": "stream",
          "text": [
            "(145, 145)\n"
          ],
          "name": "stdout"
        }
      ]
    },
    {
      "cell_type": "code",
      "metadata": {
        "id": "E7FQ2vC1rl4S",
        "colab_type": "code",
        "colab": {
          "base_uri": "https://localhost:8080/",
          "height": 54
        },
        "outputId": "1c188a58-c7ed-4cab-d45b-dbf36c436444"
      },
      "source": [
        "print(type(data))\n",
        "print(type(indian_pines_gt))"
      ],
      "execution_count": 6,
      "outputs": [
        {
          "output_type": "stream",
          "text": [
            "<class 'numpy.ndarray'>\n",
            "<class 'numpy.ndarray'>\n"
          ],
          "name": "stdout"
        }
      ]
    },
    {
      "cell_type": "code",
      "metadata": {
        "id": "BkOMZh7iotFL",
        "colab_type": "code",
        "colab": {
          "base_uri": "https://localhost:8080/",
          "height": 34
        },
        "outputId": "49952b9d-7542-43b5-bb30-280a5f0f9e44"
      },
      "source": [
        "sio.whosmat('/content/drive/My Drive/ITM/Indian Pines/Indian_pines_corrected.mat')"
      ],
      "execution_count": 7,
      "outputs": [
        {
          "output_type": "execute_result",
          "data": {
            "text/plain": [
              "[('indian_pines_corrected', (145, 145, 200), 'double')]"
            ]
          },
          "metadata": {
            "tags": []
          },
          "execution_count": 7
        }
      ]
    },
    {
      "cell_type": "code",
      "metadata": {
        "id": "CfC4pbx23rjA",
        "colab_type": "code",
        "colab": {
          "base_uri": "https://localhost:8080/",
          "height": 34
        },
        "outputId": "a5380932-2314-42f7-d7ac-cd13305d712f"
      },
      "source": [
        "sio.whosmat('/content/drive/My Drive/ITM/Indian Pines/Indian_pines_gt.mat')"
      ],
      "execution_count": 8,
      "outputs": [
        {
          "output_type": "execute_result",
          "data": {
            "text/plain": [
              "[('indian_pines_gt', (145, 145), 'double')]"
            ]
          },
          "metadata": {
            "tags": []
          },
          "execution_count": 8
        }
      ]
    },
    {
      "cell_type": "code",
      "metadata": {
        "id": "KlZ9Cp3iZhja",
        "colab_type": "code",
        "colab": {
          "base_uri": "https://localhost:8080/",
          "height": 141
        },
        "outputId": "cd83018f-7768-4b02-8073-a7c12d448554"
      },
      "source": [
        "print(indian_pines_gt)"
      ],
      "execution_count": 9,
      "outputs": [
        {
          "output_type": "stream",
          "text": [
            "[[3 3 3 ... 0 0 0]\n",
            " [3 3 3 ... 0 0 0]\n",
            " [3 3 3 ... 0 0 0]\n",
            " ...\n",
            " [0 0 0 ... 0 0 0]\n",
            " [0 0 0 ... 0 0 0]\n",
            " [0 0 0 ... 0 0 0]]\n"
          ],
          "name": "stdout"
        }
      ]
    },
    {
      "cell_type": "code",
      "metadata": {
        "id": "85IhiEV0aJz6",
        "colab_type": "code",
        "colab": {
          "base_uri": "https://localhost:8080/",
          "height": 905
        },
        "outputId": "2501d283-6b12-41ad-f15b-810289471b49"
      },
      "source": [
        "print(data)"
      ],
      "execution_count": 29,
      "outputs": [
        {
          "output_type": "stream",
          "text": [
            "[[[3172 2580 3687 ... 2570 3170 3172]\n",
            "  [2576 2747 2750 ... 3859 3686 2744]\n",
            "  [2744 2576 2744 ... 2570 2576 2742]\n",
            "  ...\n",
            "  [3324 2983 2988 ... 2564 2730 3156]\n",
            "  [3161 2727 2988 ... 3156 3159 2561]\n",
            "  [2979 2977 2814 ... 3153 3155 3323]]\n",
            "\n",
            " [[4142 4266 4266 ... 3890 4130 3890]\n",
            "  [4388 4264 4268 ... 4512 4264 4268]\n",
            "  [4146 4389 4273 ... 4266 4262 4142]\n",
            "  ...\n",
            "  [3728 3604 3612 ... 4115 4111 3991]\n",
            "  [3731 3742 4114 ... 3858 3858 3866]\n",
            "  [3728 3728 3728 ... 3864 4104 3860]]\n",
            "\n",
            " [[4506 4502 4421 ... 4320 4320 4316]\n",
            "  [4334 4592 4423 ... 4605 4690 4597]\n",
            "  [4416 4416 4420 ... 4509 4496 4230]\n",
            "  ...\n",
            "  [4002 3829 3913 ... 4103 4103 4103]\n",
            "  [3834 4011 4011 ... 4016 4100 4003]\n",
            "  [3732 3741 3914 ... 4282 4106 4197]]\n",
            "\n",
            " ...\n",
            "\n",
            " [[1057 1064 1061 ... 1042 1054 1043]\n",
            "  [1047 1055 1047 ... 1056 1051 1047]\n",
            "  [1055 1051 1068 ... 1051 1047 1042]\n",
            "  ...\n",
            "  [1003 1011 1012 ... 1003 1015 1017]\n",
            "  [1002  999 1006 ... 1011 1016 1008]\n",
            "  [1006 1007  999 ... 1003 1011 1007]]\n",
            "\n",
            " [[1020 1029 1030 ... 1021 1024 1034]\n",
            "  [1030 1039 1026 ... 1035 1012 1019]\n",
            "  [1029 1021 1033 ... 1025 1029 1025]\n",
            "  ...\n",
            "  [1004 1013 1001 ... 1005 1013 1014]\n",
            "  [1000  991 1008 ... 1004 1000 1008]\n",
            "  [1004 1009 1009 ... 1008 1005 1004]]\n",
            "\n",
            " [[1020 1020 1016 ... 1015 1020 1016]\n",
            "  [1006 1015 1015 ... 1015 1020 1016]\n",
            "  [1025 1011 1010 ... 1010 1020 1011]\n",
            "  ...\n",
            "  [1004 1008 1004 ... 1013 1004 1000]\n",
            "  [1000 1003 1013 ... 1003 1000 1000]\n",
            "  [1000  990 1003 ... 1000 1003 1000]]]\n"
          ],
          "name": "stdout"
        },
        {
          "output_type": "execute_result",
          "data": {
            "text/plain": [
              "9604"
            ]
          },
          "metadata": {
            "tags": []
          },
          "execution_count": 29
        }
      ]
    },
    {
      "cell_type": "code",
      "metadata": {
        "id": "QFjhuz_M8KHJ",
        "colab_type": "code",
        "colab": {
          "base_uri": "https://localhost:8080/",
          "height": 270
        },
        "outputId": "f84dd9b9-005e-4e37-8210-97b6b8c067d7"
      },
      "source": [
        "plt.imshow(indian_pines_gt)\n",
        "plt.title('Groundtruth of Indian Pines dataset')\n",
        "plt.colorbar()\n",
        "plt.xticks([])\n",
        "plt.yticks([])\n",
        "plt.show()"
      ],
      "execution_count": 11,
      "outputs": [
        {
          "output_type": "display_data",
          "data": {
            "image/png": "[encoded data removed]",
            "text/plain": [
              "<Figure size 432x288 with 2 Axes>"
            ]
          },
          "metadata": {
            "tags": [],
            "needs_background": "light"
          }
        }
      ]
    },
    {
      "cell_type": "code",
      "metadata": {
        "id": "PD9lywNfqRjr",
        "colab_type": "code",
        "colab": {
          "base_uri": "https://localhost:8080/",
          "height": 270
        },
        "outputId": "2f7b095e-bef1-4c54-9328-1d2e6ce5d7b0"
      },
      "source": [
        "plt.imshow(indian_pines_gt, cmap = \"jet\", interpolation='nearest')\n",
        "plt.title('Groundtruth of Indian Pines dataset for property cmap = \"jet\"')\n",
        "plt.colorbar()\n",
        "plt.savefig('/content/drive/My Drive/ITM/Indian Pines/img/imagen1.png')\n",
        "\n",
        "plt.xticks([])\n",
        "plt.yticks([])\n",
        "plt.show()"
      ],
      "execution_count": 12,
      "outputs": [
        {
          "output_type": "display_data",
          "data": {
            "image/png": "[encoded data removed]",
            "text/plain": [
              "<Figure size 432x288 with 2 Axes>"
            ]
          },
          "metadata": {
            "tags": [],
            "needs_background": "light"
          }
        }
      ]
    },
    {
      "cell_type": "code",
      "metadata": {
        "id": "9aEebMTgx5Sa",
        "colab_type": "code",
        "colab": {}
      },
      "source": [
        "#from IPython.display import Image\n",
        "#Image('/content/drive/My Drive/ITM/Indian Pines/img/imagen.png')"
      ],
      "execution_count": 13,
      "outputs": []
    },
    {
      "cell_type": "code",
      "metadata": {
        "id": "x-7Lv1uJzQUB",
        "colab_type": "code",
        "colab": {
          "base_uri": "https://localhost:8080/",
          "height": 322
        },
        "outputId": "382b73d6-2ee7-4e68-e89b-18f72c4734c0"
      },
      "source": [
        "print('Enter the band number of the image you want to view (The number to be between 0 and 199): ')\n",
        "count = int(input())\n",
        "one_band = data[:, :, count]\n",
        "plt.imshow(one_band, cmap = \"jet\", interpolation='nearest')\n",
        "print(one_band.shape)"
      ],
      "execution_count": 14,
      "outputs": [
        {
          "output_type": "stream",
          "text": [
            "Enter the band number of the image you want to view (The number to be between 0 and 199): \n",
            "10\n",
            "(145, 145)\n"
          ],
          "name": "stdout"
        },
        {
          "output_type": "display_data",
          "data": {
            "image/png": "[encoded data removed]",
            "text/plain": [
              "<Figure size 432x288 with 1 Axes>"
            ]
          },
          "metadata": {
            "tags": [],
            "needs_background": "light"
          }
        }
      ]
    },
    {
      "cell_type": "code",
      "metadata": {
        "id": "lvH8y6Hp1zav",
        "colab_type": "code",
        "colab": {}
      },
      "source": [
        "data = data.transpose((2, 0, 1))"
      ],
      "execution_count": 15,
      "outputs": []
    },
    {
      "cell_type": "code",
      "metadata": {
        "id": "4MLnGf9z12Y6",
        "colab_type": "code",
        "colab": {
          "base_uri": "https://localhost:8080/",
          "height": 34
        },
        "outputId": "607479cc-0ad4-44d0-feb5-51bed4b4bb97"
      },
      "source": [
        "print(data.shape)"
      ],
      "execution_count": 16,
      "outputs": [
        {
          "output_type": "stream",
          "text": [
            "(200, 145, 145)\n"
          ],
          "name": "stdout"
        }
      ]
    },
    {
      "cell_type": "code",
      "metadata": {
        "id": "jNmU27Vc16Ft",
        "colab_type": "code",
        "colab": {}
      },
      "source": [
        "array_expand = data[:,0,:]\n",
        "for i_row in range(1, data.shape[1]):\n",
        "    tempmatirx = data[:,i_row,:]\n",
        "    array_expand = np.hstack((array_expand,tempmatirx))"
      ],
      "execution_count": 17,
      "outputs": []
    },
    {
      "cell_type": "code",
      "metadata": {
        "id": "eV_tbZO33sYu",
        "colab_type": "code",
        "colab": {
          "base_uri": "https://localhost:8080/",
          "height": 34
        },
        "outputId": "108e4375-1c18-4fa9-eaf2-9752ee379db0"
      },
      "source": [
        "print(array_expand.shape)"
      ],
      "execution_count": 18,
      "outputs": [
        {
          "output_type": "stream",
          "text": [
            "(200, 21025)\n"
          ],
          "name": "stdout"
        }
      ]
    },
    {
      "cell_type": "code",
      "metadata": {
        "id": "SoVC42Kx6DXs",
        "colab_type": "code",
        "colab": {
          "base_uri": "https://localhost:8080/",
          "height": 141
        },
        "outputId": "1b86ff29-be99-4efb-e5f2-2afb42120de7"
      },
      "source": [
        "print(array_expand)"
      ],
      "execution_count": 19,
      "outputs": [
        {
          "output_type": "stream",
          "text": [
            "[[3172 2580 3687 ... 3153 3155 3323]\n",
            " [4142 4266 4266 ... 3864 4104 3860]\n",
            " [4506 4502 4421 ... 4282 4106 4197]\n",
            " ...\n",
            " [1057 1064 1061 ... 1003 1011 1007]\n",
            " [1020 1029 1030 ... 1008 1005 1004]\n",
            " [1020 1020 1016 ... 1000 1003 1000]]\n"
          ],
          "name": "stdout"
        }
      ]
    },
    {
      "cell_type": "code",
      "metadata": {
        "id": "ioM_-Nmz6Hcr",
        "colab_type": "code",
        "colab": {
          "base_uri": "https://localhost:8080/",
          "height": 34
        },
        "outputId": "4f92429e-9d9c-4142-f236-41224de3b41d"
      },
      "source": [
        "#array_expand.transpose((1, 0))\n",
        "print(array_expand.shape)"
      ],
      "execution_count": 20,
      "outputs": [
        {
          "output_type": "stream",
          "text": [
            "(200, 21025)\n"
          ],
          "name": "stdout"
        }
      ]
    },
    {
      "cell_type": "code",
      "metadata": {
        "id": "ewHsvQBr7DsA",
        "colab_type": "code",
        "colab": {
          "base_uri": "https://localhost:8080/",
          "height": 141
        },
        "outputId": "d730b05d-6a92-4794-aefc-7bc70cae6fae"
      },
      "source": [
        "print(array_expand)"
      ],
      "execution_count": 21,
      "outputs": [
        {
          "output_type": "stream",
          "text": [
            "[[3172 2580 3687 ... 3153 3155 3323]\n",
            " [4142 4266 4266 ... 3864 4104 3860]\n",
            " [4506 4502 4421 ... 4282 4106 4197]\n",
            " ...\n",
            " [1057 1064 1061 ... 1003 1011 1007]\n",
            " [1020 1029 1030 ... 1008 1005 1004]\n",
            " [1020 1020 1016 ... 1000 1003 1000]]\n"
          ],
          "name": "stdout"
        }
      ]
    },
    {
      "cell_type": "code",
      "metadata": {
        "id": "5rIQy8858C7o",
        "colab_type": "code",
        "colab": {}
      },
      "source": [
        "valor_maximo = np.amax(array_expand)\n",
        "array_expand_scaled = array_expand / valor_maximo"
      ],
      "execution_count": 22,
      "outputs": []
    },
    {
      "cell_type": "code",
      "metadata": {
        "id": "OlQHAt0E8EeN",
        "colab_type": "code",
        "colab": {
          "base_uri": "https://localhost:8080/",
          "height": 52
        },
        "outputId": "a80dd568-2051-4b33-c71c-b3214f32d642"
      },
      "source": [
        "print(valor_maximo)\n",
        "print(array_expand_scaled.shape)"
      ],
      "execution_count": 30,
      "outputs": [
        {
          "output_type": "stream",
          "text": [
            "9604\n",
            "(200, 21025)\n"
          ],
          "name": "stdout"
        }
      ]
    },
    {
      "cell_type": "code",
      "metadata": {
        "id": "VkkcQ9p88Uv6",
        "colab_type": "code",
        "colab": {
          "base_uri": "https://localhost:8080/",
          "height": 141
        },
        "outputId": "27085cde-55ba-46c8-a3d8-b82f4b17d490"
      },
      "source": [
        "print(array_expand_scaled)"
      ],
      "execution_count": 24,
      "outputs": [
        {
          "output_type": "stream",
          "text": [
            "[[0.33027905 0.26863807 0.38390254 ... 0.32830071 0.32850895 0.34600167]\n",
            " [0.43127863 0.44418992 0.44418992 ... 0.40233236 0.42732195 0.40191587]\n",
            " [0.46917951 0.46876302 0.46032903 ... 0.44585589 0.4275302  0.43700541]\n",
            " ...\n",
            " [0.11005831 0.11078717 0.1104748  ... 0.10443565 0.10526864 0.10485214]\n",
            " [0.10620575 0.10714286 0.10724698 ... 0.10495627 0.1046439  0.10453978]\n",
            " [0.10620575 0.10620575 0.10578925 ... 0.10412328 0.10443565 0.10412328]]\n"
          ],
          "name": "stdout"
        }
      ]
    },
    {
      "cell_type": "code",
      "metadata": {
        "id": "wQO19K5_8W-X",
        "colab_type": "code",
        "colab": {}
      },
      "source": [
        "num_com = 15\n",
        "pca = PCA(n_components = num_com)\n",
        "array_pca = pca.fit_transform(array_expand_scaled)"
      ],
      "execution_count": 31,
      "outputs": []
    },
    {
      "cell_type": "code",
      "metadata": {
        "id": "ibglCErs8n-l",
        "colab_type": "code",
        "colab": {
          "base_uri": "https://localhost:8080/",
          "height": 301
        },
        "outputId": "cb95205d-437c-4358-ff3a-15b94ec98602"
      },
      "source": [
        "print(pca)\n",
        "print(array_pca.shape)\n",
        "print(array_pca)"
      ],
      "execution_count": 33,
      "outputs": [
        {
          "output_type": "stream",
          "text": [
            "PCA(copy=True, iterated_power='auto', n_components=15, random_state=None,\n",
            "    svd_solver='auto', tol=0.0, whiten=False)\n",
            "(200, 15)\n",
            "[[  4.53284936  -1.01897965   2.20593202 ...   0.35241322  -0.12118509\n",
            "   -0.28926463]\n",
            " [ 21.40622606   2.62962359   3.3652725  ...  -0.07713727   0.09734186\n",
            "   -0.06122168]\n",
            " [ 24.18385373   3.45806854   3.35943361 ...  -0.0750431    0.05662522\n",
            "   -0.0366901 ]\n",
            " ...\n",
            " [-24.48091656  -2.46357849   0.0528589  ...   0.05026661  -0.15387607\n",
            "    0.09101421]\n",
            " [-24.69464246  -2.61987831   0.07743691 ...   0.05697762  -0.17041329\n",
            "    0.09984382]\n",
            " [-24.79735186  -2.70865692   0.09518779 ...   0.06153434  -0.17971515\n",
            "    0.10543165]]\n"
          ],
          "name": "stdout"
        }
      ]
    },
    {
      "cell_type": "code",
      "metadata": {
        "id": "1idrmWxNs9Xn",
        "colab_type": "code",
        "colab": {}
      },
      "source": [
        ""
      ],
      "execution_count": null,
      "outputs": []
    }
  ]
}