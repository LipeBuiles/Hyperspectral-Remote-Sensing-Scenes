{
  "nbformat": 4,
  "nbformat_minor": 0,
  "metadata": {
    "colab": {
      "name": "Hyperspectral Remote Sensing Scenes.ipynb",
      "provenance": [],
      "collapsed_sections": [],
      "mount_file_id": "https://github.com/elpinchepastel/Indian_Pines/blob/master/Hyperspectral_Remote_Sensing_Scenes.ipynb",
      "authorship_tag": "ABX9TyMBWcz2YVXF5YttWKGaDwb/",
      "include_colab_link": true
    },
    "kernelspec": {
      "name": "python3",
      "display_name": "Python 3"
    },
    "accelerator": "GPU"
  },
  "cells": [
    {
      "cell_type": "markdown",
      "metadata": {
        "id": "view-in-github",
        "colab_type": "text"
      },
      "source": [
        "<a href=\"https://colab.research.google.com/github/elpinchepastel/Indian_Pines/blob/master/Hyperspectral_Remote_Sensing_Scenes.ipynb\" target=\"_parent\"><img src=\"https://colab.research.google.com/assets/colab-badge.svg\" alt=\"Open In Colab\"/></a>"
      ]
    },
    {
      "cell_type": "code",
      "metadata": {
        "id": "mzEiw9A1kVNZ",
        "colab_type": "code",
        "colab": {}
      },
      "source": [
        "import numpy as np\n",
        "import matplotlib.pyplot as plt\n",
        "import scipy.io\n",
        "import scipy.io as sio\n",
        "from scipy import stats, optimize, interpolate\n",
        "from scipy.io import loadmat\n",
        "import sklearn.preprocessing as sp\n",
        "from sklearn.decomposition import PCA"
      ],
      "execution_count": 1,
      "outputs": []
    },
    {
      "cell_type": "code",
      "metadata": {
        "id": "U_4KfD_k9v7y",
        "colab_type": "code",
        "colab": {
          "base_uri": "https://localhost:8080/",
          "height": 70
        },
        "outputId": "41cc3548-5647-499d-effd-6b5ac045f589"
      },
      "source": [
        "annots = loadmat('/content/drive/My Drive/ITM/Indian Pines/Indian_pines_gt.mat')\n",
        "print(type(annots))\n",
        "print(annots.keys())\n",
        "print(type(annots['indian_pines_gt']),annots['indian_pines_gt'].shape)"
      ],
      "execution_count": 2,
      "outputs": [
        {
          "output_type": "stream",
          "text": [
            "<class 'dict'>\n",
            "dict_keys(['__header__', '__version__', '__globals__', 'indian_pines_gt'])\n",
            "<class 'numpy.ndarray'> (145, 145)\n"
          ],
          "name": "stdout"
        }
      ]
    },
    {
      "cell_type": "code",
      "metadata": {
        "id": "aM7ie0Xj-NGm",
        "colab_type": "code",
        "colab": {
          "base_uri": "https://localhost:8080/",
          "height": 70
        },
        "outputId": "42b25982-c315-40a5-a15a-2a7ec78b63ab"
      },
      "source": [
        "annots = loadmat('/content/drive/My Drive/ITM/Indian Pines/Indian_pines_corrected.mat')\n",
        "print(type(annots))\n",
        "print(annots.keys())\n",
        "print(type(annots['indian_pines_corrected']),annots['indian_pines_corrected'].shape)"
      ],
      "execution_count": 3,
      "outputs": [
        {
          "output_type": "stream",
          "text": [
            "<class 'dict'>\n",
            "dict_keys(['__header__', '__version__', '__globals__', 'indian_pines_corrected'])\n",
            "<class 'numpy.ndarray'> (145, 145, 200)\n"
          ],
          "name": "stdout"
        }
      ]
    },
    {
      "cell_type": "code",
      "metadata": {
        "id": "zCzr6E7D9tbO",
        "colab_type": "code",
        "colab": {
          "base_uri": "https://localhost:8080/",
          "height": 34
        },
        "outputId": "a76e6b89-1bde-45b6-9440-6aaefa2f4b0b"
      },
      "source": [
        "data = scipy.io.loadmat('/content/drive/My Drive/ITM/Indian Pines/Indian_pines_corrected.mat')['indian_pines_corrected']\n",
        "print(data.shape)"
      ],
      "execution_count": 4,
      "outputs": [
        {
          "output_type": "stream",
          "text": [
            "(145, 145, 200)\n"
          ],
          "name": "stdout"
        }
      ]
    },
    {
      "cell_type": "code",
      "metadata": {
        "id": "MRJFNg0con6y",
        "colab_type": "code",
        "colab": {
          "base_uri": "https://localhost:8080/",
          "height": 34
        },
        "outputId": "6a6be87d-bf05-4780-e44e-8637940f302f"
      },
      "source": [
        "indian_pines_gt = scipy.io.loadmat('/content/drive/My Drive/ITM/Indian Pines/Indian_pines_gt.mat')['indian_pines_gt']\n",
        "print(indian_pines_gt.shape)"
      ],
      "execution_count": 5,
      "outputs": [
        {
          "output_type": "stream",
          "text": [
            "(145, 145)\n"
          ],
          "name": "stdout"
        }
      ]
    },
    {
      "cell_type": "code",
      "metadata": {
        "id": "E7FQ2vC1rl4S",
        "colab_type": "code",
        "colab": {
          "base_uri": "https://localhost:8080/",
          "height": 52
        },
        "outputId": "74932e80-e409-4cc0-df56-604f1ffdfb7e"
      },
      "source": [
        "print(type(data))\n",
        "print(type(indian_pines_gt))"
      ],
      "execution_count": 6,
      "outputs": [
        {
          "output_type": "stream",
          "text": [
            "<class 'numpy.ndarray'>\n",
            "<class 'numpy.ndarray'>\n"
          ],
          "name": "stdout"
        }
      ]
    },
    {
      "cell_type": "code",
      "metadata": {
        "id": "BkOMZh7iotFL",
        "colab_type": "code",
        "colab": {
          "base_uri": "https://localhost:8080/",
          "height": 34
        },
        "outputId": "8c1dd7e2-fc1e-4073-de93-9c886746f32c"
      },
      "source": [
        "sio.whosmat('/content/drive/My Drive/ITM/Indian Pines/Indian_pines_corrected.mat')"
      ],
      "execution_count": 7,
      "outputs": [
        {
          "output_type": "execute_result",
          "data": {
            "text/plain": [
              "[('indian_pines_corrected', (145, 145, 200), 'double')]"
            ]
          },
          "metadata": {
            "tags": []
          },
          "execution_count": 7
        }
      ]
    },
    {
      "cell_type": "code",
      "metadata": {
        "id": "CfC4pbx23rjA",
        "colab_type": "code",
        "colab": {
          "base_uri": "https://localhost:8080/",
          "height": 34
        },
        "outputId": "49148d30-4065-498a-c0d0-06c372e643b2"
      },
      "source": [
        "sio.whosmat('/content/drive/My Drive/ITM/Indian Pines/Indian_pines_gt.mat')"
      ],
      "execution_count": 8,
      "outputs": [
        {
          "output_type": "execute_result",
          "data": {
            "text/plain": [
              "[('indian_pines_gt', (145, 145), 'double')]"
            ]
          },
          "metadata": {
            "tags": []
          },
          "execution_count": 8
        }
      ]
    },
    {
      "cell_type": "code",
      "metadata": {
        "id": "KlZ9Cp3iZhja",
        "colab_type": "code",
        "colab": {
          "base_uri": "https://localhost:8080/",
          "height": 141
        },
        "outputId": "eac919ef-d3d8-4320-d6a3-66ba1d5507b5"
      },
      "source": [
        "print(indian_pines_gt)"
      ],
      "execution_count": 9,
      "outputs": [
        {
          "output_type": "stream",
          "text": [
            "[[3 3 3 ... 0 0 0]\n",
            " [3 3 3 ... 0 0 0]\n",
            " [3 3 3 ... 0 0 0]\n",
            " ...\n",
            " [0 0 0 ... 0 0 0]\n",
            " [0 0 0 ... 0 0 0]\n",
            " [0 0 0 ... 0 0 0]]\n"
          ],
          "name": "stdout"
        }
      ]
    },
    {
      "cell_type": "code",
      "metadata": {
        "id": "85IhiEV0aJz6",
        "colab_type": "code",
        "colab": {
          "base_uri": "https://localhost:8080/",
          "height": 887
        },
        "outputId": "973241ea-95c2-4874-a128-41c41725bc6d"
      },
      "source": [
        "print(data)"
      ],
      "execution_count": 10,
      "outputs": [
        {
          "output_type": "stream",
          "text": [
            "[[[3172 4142 4506 ... 1057 1020 1020]\n",
            "  [2580 4266 4502 ... 1064 1029 1020]\n",
            "  [3687 4266 4421 ... 1061 1030 1016]\n",
            "  ...\n",
            "  [2570 3890 4320 ... 1042 1021 1015]\n",
            "  [3170 4130 4320 ... 1054 1024 1020]\n",
            "  [3172 3890 4316 ... 1043 1034 1016]]\n",
            "\n",
            " [[2576 4388 4334 ... 1047 1030 1006]\n",
            "  [2747 4264 4592 ... 1055 1039 1015]\n",
            "  [2750 4268 4423 ... 1047 1026 1015]\n",
            "  ...\n",
            "  [3859 4512 4605 ... 1056 1035 1015]\n",
            "  [3686 4264 4690 ... 1051 1012 1020]\n",
            "  [2744 4268 4597 ... 1047 1019 1016]]\n",
            "\n",
            " [[2744 4146 4416 ... 1055 1029 1025]\n",
            "  [2576 4389 4416 ... 1051 1021 1011]\n",
            "  [2744 4273 4420 ... 1068 1033 1010]\n",
            "  ...\n",
            "  [2570 4266 4509 ... 1051 1025 1010]\n",
            "  [2576 4262 4496 ... 1047 1029 1020]\n",
            "  [2742 4142 4230 ... 1042 1025 1011]]\n",
            "\n",
            " ...\n",
            "\n",
            " [[3324 3728 4002 ... 1003 1004 1004]\n",
            "  [2983 3604 3829 ... 1011 1013 1008]\n",
            "  [2988 3612 3913 ... 1012 1001 1004]\n",
            "  ...\n",
            "  [2564 4115 4103 ... 1003 1005 1013]\n",
            "  [2730 4111 4103 ... 1015 1013 1004]\n",
            "  [3156 3991 4103 ... 1017 1014 1000]]\n",
            "\n",
            " [[3161 3731 3834 ... 1002 1000 1000]\n",
            "  [2727 3742 4011 ...  999  991 1003]\n",
            "  [2988 4114 4011 ... 1006 1008 1013]\n",
            "  ...\n",
            "  [3156 3858 4016 ... 1011 1004 1003]\n",
            "  [3159 3858 4100 ... 1016 1000 1000]\n",
            "  [2561 3866 4003 ... 1008 1008 1000]]\n",
            "\n",
            " [[2979 3728 3732 ... 1006 1004 1000]\n",
            "  [2977 3728 3741 ... 1007 1009  990]\n",
            "  [2814 3728 3914 ...  999 1009 1003]\n",
            "  ...\n",
            "  [3153 3864 4282 ... 1003 1008 1000]\n",
            "  [3155 4104 4106 ... 1011 1005 1003]\n",
            "  [3323 3860 4197 ... 1007 1004 1000]]]\n"
          ],
          "name": "stdout"
        }
      ]
    },
    {
      "cell_type": "code",
      "metadata": {
        "id": "QFjhuz_M8KHJ",
        "colab_type": "code",
        "colab": {
          "base_uri": "https://localhost:8080/",
          "height": 270
        },
        "outputId": "4a59917e-e0ce-47c6-c080-0505623a0ef1"
      },
      "source": [
        "plt.imshow(indian_pines_gt)\n",
        "plt.title('Groundtruth of Indian Pines dataset')\n",
        "plt.colorbar()\n",
        "plt.xticks([])\n",
        "plt.yticks([])\n",
        "plt.show()"
      ],
      "execution_count": 11,
      "outputs": [
        {
          "output_type": "display_data",
          "data": {
            "image/png": "[encoded data removed]",
            "text/plain": [
              "<Figure size 432x288 with 2 Axes>"
            ]
          },
          "metadata": {
            "tags": [],
            "needs_background": "light"
          }
        }
      ]
    },
    {
      "cell_type": "code",
      "metadata": {
        "id": "PD9lywNfqRjr",
        "colab_type": "code",
        "colab": {
          "base_uri": "https://localhost:8080/",
          "height": 270
        },
        "outputId": "18dde6df-8699-48de-fd35-16ac3b86982f"
      },
      "source": [
        "plt.imshow(indian_pines_gt, cmap = \"jet\", interpolation='nearest')\n",
        "plt.title('Groundtruth of Indian Pines dataset for property cmap = \"jet\"')\n",
        "plt.colorbar()\n",
        "plt.savefig('/content/drive/My Drive/ITM/Indian Pines/img/imagen1.png')\n",
        "\n",
        "plt.xticks([])\n",
        "plt.yticks([])\n",
        "plt.show()"
      ],
      "execution_count": 12,
      "outputs": [
        {
          "output_type": "display_data",
          "data": {
            "image/png": "[encoded data removed]",
            "text/plain": [
              "<Figure size 432x288 with 2 Axes>"
            ]
          },
          "metadata": {
            "tags": [],
            "needs_background": "light"
          }
        }
      ]
    },
    {
      "cell_type": "code",
      "metadata": {
        "id": "9aEebMTgx5Sa",
        "colab_type": "code",
        "colab": {}
      },
      "source": [
        "#from IPython.display import Image\n",
        "#Image('/content/drive/My Drive/ITM/Indian Pines/img/imagen.png')"
      ],
      "execution_count": 13,
      "outputs": []
    },
    {
      "cell_type": "code",
      "metadata": {
        "id": "x-7Lv1uJzQUB",
        "colab_type": "code",
        "colab": {
          "base_uri": "https://localhost:8080/",
          "height": 322
        },
        "outputId": "575d16dc-c320-447d-93fb-ba0759d47255"
      },
      "source": [
        "print('Enter the band number of the image you want to view (The number to be between 0 and 199): ')\n",
        "count = int(input())\n",
        "one_band = data[:, :, count]\n",
        "plt.imshow(one_band, cmap = \"jet\", interpolation='nearest')\n",
        "print(one_band.shape)"
      ],
      "execution_count": 14,
      "outputs": [
        {
          "output_type": "stream",
          "text": [
            "Enter the band number of the image you want to view (The number to be between 0 and 199): \n",
            "0\n",
            "(145, 145)\n"
          ],
          "name": "stdout"
        },
        {
          "output_type": "display_data",
          "data": {
            "image/png": "[encoded data removed]",
            "text/plain": [
              "<Figure size 432x288 with 1 Axes>"
            ]
          },
          "metadata": {
            "tags": [],
            "needs_background": "light"
          }
        }
      ]
    },
    {
      "cell_type": "code",
      "metadata": {
        "id": "lvH8y6Hp1zav",
        "colab_type": "code",
        "colab": {}
      },
      "source": [
        "data = data.transpose((2, 0, 1))"
      ],
      "execution_count": 15,
      "outputs": []
    },
    {
      "cell_type": "code",
      "metadata": {
        "id": "4MLnGf9z12Y6",
        "colab_type": "code",
        "colab": {
          "base_uri": "https://localhost:8080/",
          "height": 34
        },
        "outputId": "e360d45d-1306-4ed5-ab88-b598cfa8c121"
      },
      "source": [
        "print(data.shape)"
      ],
      "execution_count": 16,
      "outputs": [
        {
          "output_type": "stream",
          "text": [
            "(200, 145, 145)\n"
          ],
          "name": "stdout"
        }
      ]
    },
    {
      "cell_type": "code",
      "metadata": {
        "id": "jNmU27Vc16Ft",
        "colab_type": "code",
        "colab": {}
      },
      "source": [
        "array_expand = data[:,0,:]\n",
        "for i_row in range(1, data.shape[1]):\n",
        "    tempmatirx = data[:,i_row,:]\n",
        "    array_expand = np.hstack((array_expand,tempmatirx))"
      ],
      "execution_count": 17,
      "outputs": []
    },
    {
      "cell_type": "code",
      "metadata": {
        "id": "eV_tbZO33sYu",
        "colab_type": "code",
        "colab": {
          "base_uri": "https://localhost:8080/",
          "height": 34
        },
        "outputId": "5d0008e8-f574-44b7-f07b-0f76c39fff6a"
      },
      "source": [
        "print(array_expand.shape)"
      ],
      "execution_count": 18,
      "outputs": [
        {
          "output_type": "stream",
          "text": [
            "(200, 21025)\n"
          ],
          "name": "stdout"
        }
      ]
    },
    {
      "cell_type": "code",
      "metadata": {
        "id": "SoVC42Kx6DXs",
        "colab_type": "code",
        "colab": {
          "base_uri": "https://localhost:8080/",
          "height": 141
        },
        "outputId": "e98de090-fcc1-40e3-bf8e-32fcd0930bad"
      },
      "source": [
        "print(array_expand)"
      ],
      "execution_count": 19,
      "outputs": [
        {
          "output_type": "stream",
          "text": [
            "[[3172 2580 3687 ... 3153 3155 3323]\n",
            " [4142 4266 4266 ... 3864 4104 3860]\n",
            " [4506 4502 4421 ... 4282 4106 4197]\n",
            " ...\n",
            " [1057 1064 1061 ... 1003 1011 1007]\n",
            " [1020 1029 1030 ... 1008 1005 1004]\n",
            " [1020 1020 1016 ... 1000 1003 1000]]\n"
          ],
          "name": "stdout"
        }
      ]
    },
    {
      "cell_type": "code",
      "metadata": {
        "id": "ioM_-Nmz6Hcr",
        "colab_type": "code",
        "colab": {
          "base_uri": "https://localhost:8080/",
          "height": 34
        },
        "outputId": "5c2a6086-2440-4a69-f6b4-fc06f63e404f"
      },
      "source": [
        "#array_expand.transpose((1, 0))\n",
        "print(array_expand.shape)"
      ],
      "execution_count": 20,
      "outputs": [
        {
          "output_type": "stream",
          "text": [
            "(200, 21025)\n"
          ],
          "name": "stdout"
        }
      ]
    },
    {
      "cell_type": "code",
      "metadata": {
        "id": "ewHsvQBr7DsA",
        "colab_type": "code",
        "colab": {
          "base_uri": "https://localhost:8080/",
          "height": 141
        },
        "outputId": "c2cf43eb-ac05-4ecd-96b7-78852a55e652"
      },
      "source": [
        "print(array_expand)"
      ],
      "execution_count": 21,
      "outputs": [
        {
          "output_type": "stream",
          "text": [
            "[[3172 2580 3687 ... 3153 3155 3323]\n",
            " [4142 4266 4266 ... 3864 4104 3860]\n",
            " [4506 4502 4421 ... 4282 4106 4197]\n",
            " ...\n",
            " [1057 1064 1061 ... 1003 1011 1007]\n",
            " [1020 1029 1030 ... 1008 1005 1004]\n",
            " [1020 1020 1016 ... 1000 1003 1000]]\n"
          ],
          "name": "stdout"
        }
      ]
    },
    {
      "cell_type": "code",
      "metadata": {
        "id": "5rIQy8858C7o",
        "colab_type": "code",
        "colab": {}
      },
      "source": [
        "valor_maximo = np.amax(array_expand)\n",
        "array_expand_scaled = array_expand / valor_maximo"
      ],
      "execution_count": 22,
      "outputs": []
    },
    {
      "cell_type": "code",
      "metadata": {
        "id": "OlQHAt0E8EeN",
        "colab_type": "code",
        "colab": {
          "base_uri": "https://localhost:8080/",
          "height": 52
        },
        "outputId": "cbc33098-4787-4e86-abf4-3f9c391e8e3e"
      },
      "source": [
        "print(valor_maximo)\n",
        "print(array_expand_scaled.shape)\n",
        "array_expand_scaled = array_expand_scaled.transpose((1, 0))"
      ],
      "execution_count": 23,
      "outputs": [
        {
          "output_type": "stream",
          "text": [
            "9604\n",
            "(200, 21025)\n"
          ],
          "name": "stdout"
        }
      ]
    },
    {
      "cell_type": "code",
      "metadata": {
        "id": "VkkcQ9p88Uv6",
        "colab_type": "code",
        "colab": {
          "base_uri": "https://localhost:8080/",
          "height": 141
        },
        "outputId": "f799995b-fd02-4ee1-a427-51ac9ba99907"
      },
      "source": [
        "print(array_expand_scaled)"
      ],
      "execution_count": 24,
      "outputs": [
        {
          "output_type": "stream",
          "text": [
            "[[0.33027905 0.43127863 0.46917951 ... 0.11005831 0.10620575 0.10620575]\n",
            " [0.26863807 0.44418992 0.46876302 ... 0.11078717 0.10714286 0.10620575]\n",
            " [0.38390254 0.44418992 0.46032903 ... 0.1104748  0.10724698 0.10578925]\n",
            " ...\n",
            " [0.32830071 0.40233236 0.44585589 ... 0.10443565 0.10495627 0.10412328]\n",
            " [0.32850895 0.42732195 0.4275302  ... 0.10526864 0.1046439  0.10443565]\n",
            " [0.34600167 0.40191587 0.43700541 ... 0.10485214 0.10453978 0.10412328]]\n"
          ],
          "name": "stdout"
        }
      ]
    },
    {
      "cell_type": "code",
      "metadata": {
        "id": "wQO19K5_8W-X",
        "colab_type": "code",
        "colab": {
          "base_uri": "https://localhost:8080/",
          "height": 52
        },
        "outputId": "3695ee02-b600-4831-b02a-4ce4f176dde0"
      },
      "source": [
        "num_com = 10\n",
        "pca = PCA(n_components = num_com, whiten=False)\n",
        "array_pca = pca.fit(array_expand_scaled)\n",
        "array_pca = pca.transform(array_expand_scaled)\n",
        "print(\"original shape:   \", array_expand_scaled.shape)\n",
        "print(\"transformed shape:\",  array_pca.shape)\n"
      ],
      "execution_count": 25,
      "outputs": [
        {
          "output_type": "stream",
          "text": [
            "original shape:    (21025, 200)\n",
            "transformed shape: (21025, 10)\n"
          ],
          "name": "stdout"
        }
      ]
    },
    {
      "cell_type": "code",
      "metadata": {
        "id": "ibglCErs8n-l",
        "colab_type": "code",
        "colab": {
          "base_uri": "https://localhost:8080/",
          "height": 301
        },
        "outputId": "8231a22f-926a-48a8-c965-a80224613f98"
      },
      "source": [
        "print(pca)\n",
        "print(array_pca.shape)\n",
        "print(array_pca)"
      ],
      "execution_count": 26,
      "outputs": [
        {
          "output_type": "stream",
          "text": [
            "PCA(copy=True, iterated_power='auto', n_components=10, random_state=None,\n",
            "    svd_solver='auto', tol=0.0, whiten=False)\n",
            "(21025, 10)\n",
            "[[ 5.22168470e-01  1.51693384e-01  7.56945533e-03 ... -3.16923666e-02\n",
            "   2.67003077e-02 -6.93737490e-03]\n",
            " [ 5.83234459e-01 -2.10688264e-01  3.64571700e-02 ...  2.50779905e-02\n",
            "  -4.94430647e-02  9.73481279e-03]\n",
            " [ 6.03512645e-01 -3.21782055e-01  5.10766274e-02 ...  2.14401988e-02\n",
            "   5.96100251e-02 -1.99525418e-02]\n",
            " ...\n",
            " [-7.67371324e-01 -1.17907306e-01  4.14587907e-02 ... -1.57783193e-02\n",
            "   1.53423837e-02  6.84404056e-04]\n",
            " [-6.76498047e-01  8.31153720e-02  7.04715710e-02 ...  3.09194633e-02\n",
            "   2.23328582e-02  1.68532263e-03]\n",
            " [-6.84137980e-01  3.61047087e-02  4.84642645e-02 ...  3.02278693e-02\n",
            "   3.72506231e-02 -1.44223164e-02]]\n"
          ],
          "name": "stdout"
        }
      ]
    },
    {
      "cell_type": "code",
      "metadata": {
        "id": "1idrmWxNs9Xn",
        "colab_type": "code",
        "colab": {}
      },
      "source": [
        "num_max = np.amin(array_pca)\n",
        "num_min = np.amax(array_pca)"
      ],
      "execution_count": 27,
      "outputs": []
    },
    {
      "cell_type": "code",
      "metadata": {
        "id": "_-BuK2X0g_j5",
        "colab_type": "code",
        "colab": {
          "base_uri": "https://localhost:8080/",
          "height": 52
        },
        "outputId": "ab6a34c1-f161-482d-ff8f-23a1f8e5f9e1"
      },
      "source": [
        "print(num_max)\n",
        "print(num_min)"
      ],
      "execution_count": 28,
      "outputs": [
        {
          "output_type": "stream",
          "text": [
            "-1.7735229066761196\n",
            "1.8401188043113101\n"
          ],
          "name": "stdout"
        }
      ]
    },
    {
      "cell_type": "code",
      "metadata": {
        "id": "qChiKub_wR5N",
        "colab_type": "code",
        "colab": {}
      },
      "source": [
        "b = np.reshape(array_pca, (10, 145, 145)) "
      ],
      "execution_count": 29,
      "outputs": []
    },
    {
      "cell_type": "code",
      "metadata": {
        "id": "_TfGYtA3xwPf",
        "colab_type": "code",
        "colab": {
          "base_uri": "https://localhost:8080/",
          "height": 1000
        },
        "outputId": "becf2e70-2529-4ebf-a2f8-56a251e722f7"
      },
      "source": [
        "print(b)"
      ],
      "execution_count": 30,
      "outputs": [
        {
          "output_type": "stream",
          "text": [
            "[[[ 5.22168470e-01  1.51693384e-01  7.56945533e-03 ...  2.30621292e-02\n",
            "    2.52368602e-03 -1.34222566e-02]\n",
            "  [ 8.17220139e-02  8.01960957e-03 -2.32557040e-02 ... -1.99277328e-02\n",
            "    3.90160841e-02  5.80098341e-02]\n",
            "  [-3.54687392e-01 -1.09098243e-01  4.78749227e-02 ...  1.04540194e-01\n",
            "    4.53756982e-02 -6.86934374e-03]\n",
            "  ...\n",
            "  [ 3.97345505e-01  7.37475842e-01 -4.57284094e-02 ... -4.45180403e-02\n",
            "    5.32137964e-02  9.53495229e-03]\n",
            "  [ 8.00363743e-02 -1.13461920e-03 -3.88394191e-02 ...  2.48178159e-02\n",
            "    2.26803992e-02 -5.57130991e-03]\n",
            "  [ 5.18405722e-01 -2.39721480e-01 -2.06386819e-02 ...  5.01276807e-02\n",
            "    2.21895555e-02 -5.45057290e-03]]\n",
            "\n",
            " [[-2.71506496e-02 -1.62759290e-02 -3.89013455e-02 ... -4.90807823e-02\n",
            "   -6.08790706e-02  6.49191428e-03]\n",
            "  [ 8.25826763e-02  2.06718389e-01 -7.77345576e-03 ...  6.90102228e-02\n",
            "    1.88191146e-02 -1.40600374e-02]\n",
            "  [ 3.69630145e-02 -6.08563264e-02  6.31357538e-02 ... -2.08500331e-04\n",
            "    7.00091393e-02 -4.86302368e-03]\n",
            "  ...\n",
            "  [ 1.59747274e-02 -2.12039836e-03  5.31718161e-02 ... -2.90464713e-02\n",
            "   -2.93955949e-02  8.24849091e-03]\n",
            "  [-5.84534990e-01  9.33935090e-02  5.96089596e-02 ...  4.18477924e-01\n",
            "    7.71244058e-02  1.08246034e-01]\n",
            "  [-2.80666796e-02  6.77665397e-02 -4.10755246e-02 ... -3.21337389e-02\n",
            "   -5.37037839e-02  2.39380137e-02]]\n",
            "\n",
            " [[-6.64737111e-01 -1.72601486e-01  1.39871525e-02 ... -3.88687044e-02\n",
            "   -3.41357520e-02  4.32785753e-02]\n",
            "  [ 6.04688902e-02 -5.79349391e-02  3.17691827e-02 ...  4.36987355e-02\n",
            "   -3.86953339e-02 -1.53782107e-02]\n",
            "  [ 4.27047285e-01 -7.39773530e-02  1.19505294e-01 ...  8.39730171e-02\n",
            "    4.61456107e-02  4.23510904e-02]\n",
            "  ...\n",
            "  [-2.53697117e-02  3.09643842e-01  1.65886443e-02 ... -1.03873427e-01\n",
            "   -9.52868684e-02  5.59013324e-03]\n",
            "  [ 6.25729393e-03  1.24817951e-02 -3.72719903e-03 ...  3.49940059e-02\n",
            "    9.11792767e-02  4.03076043e-03]\n",
            "  [ 7.68538854e-01 -6.36229422e-01  9.90221514e-02 ...  1.75371424e-03\n",
            "   -8.98926408e-02  3.54666463e-02]]\n",
            "\n",
            " ...\n",
            "\n",
            " [[-1.07320815e-01 -3.59189056e-02  5.46075686e-02 ... -2.97404264e-02\n",
            "   -5.58264266e-03  5.83971061e-02]\n",
            "  [-2.48740181e-02  3.94538718e-01 -4.15999261e-02 ...  1.04359893e-02\n",
            "   -4.89575016e-03 -6.03572662e-02]\n",
            "  [ 1.57630133e-02  3.51614478e-02  1.10597292e-02 ... -3.22189392e-02\n",
            "    1.63415822e-02 -1.12738188e-02]\n",
            "  ...\n",
            "  [-6.45916969e-02  2.97839560e-02 -3.19815391e-03 ...  7.90481887e-02\n",
            "   -9.05516464e-03  1.60583541e-02]\n",
            "  [-5.64556379e-01  3.18943283e-01  8.53847008e-02 ...  1.19906359e-01\n",
            "   -6.95981584e-02 -3.00409711e-02]\n",
            "  [-2.27172937e-03  3.81858593e-02  9.10056101e-02 ...  4.09174017e-02\n",
            "    6.54225531e-02  9.34891322e-02]]\n",
            "\n",
            " [[ 1.40003888e-01  7.47913023e-01  6.04786947e-03 ... -3.74414867e-02\n",
            "   -4.97928529e-02  3.25525355e-02]\n",
            "  [ 5.13627035e-03 -9.01621852e-03  3.62412758e-02 ...  5.50673779e-02\n",
            "   -5.46010591e-03 -5.21763511e-02]\n",
            "  [ 3.32348605e-02 -8.60141663e-02  1.33065674e-01 ...  1.21713497e-01\n",
            "   -8.49096033e-03  3.77868557e-02]\n",
            "  ...\n",
            "  [ 4.33496759e-01  1.78335087e-01 -5.16783555e-02 ... -3.47749599e-02\n",
            "    6.12263171e-03 -5.46797348e-02]\n",
            "  [-1.67303047e-02  2.01875922e-02 -3.81058465e-02 ... -3.35673237e-02\n",
            "    1.53160452e-02 -6.69730608e-02]\n",
            "  [-5.46195351e-01  1.95558348e-02 -1.67298760e-02 ... -1.17604515e-01\n",
            "    1.53218051e-02  4.23817941e-02]]\n",
            "\n",
            " [[-6.10699653e-02 -6.23037669e-02  5.26590855e-02 ...  3.37067335e-02\n",
            "    1.79863868e-02  1.17680142e-02]\n",
            "  [-7.48005433e-01  5.87926572e-02  6.76111088e-02 ...  8.97948596e-03\n",
            "   -4.28101085e-02 -1.21595165e-01]\n",
            "  [ 3.19385235e-02  3.72136458e-02  3.34427388e-02 ... -4.22547175e-02\n",
            "    3.91895474e-02 -6.62641692e-03]\n",
            "  ...\n",
            "  [ 6.06753935e-02 -2.68255353e-02 -6.23809783e-02 ...  5.57411556e-02\n",
            "   -4.16634226e-02 -8.10930821e-02]\n",
            "  [ 2.39354484e-03 -5.27885736e-02 -1.51997950e-01 ...  3.67335897e-04\n",
            "    1.63387278e-02 -5.05300682e-02]\n",
            "  [ 5.15032092e-02 -4.96481959e-02 -4.47950970e-02 ...  3.02278693e-02\n",
            "    3.72506231e-02 -1.44223164e-02]]]\n"
          ],
          "name": "stdout"
        }
      ]
    },
    {
      "cell_type": "code",
      "metadata": {
        "id": "APUJASCOy4a6",
        "colab_type": "code",
        "colab": {
          "base_uri": "https://localhost:8080/",
          "height": 34
        },
        "outputId": "891053a9-7f35-401d-a293-269592ce46be"
      },
      "source": [
        "print(b.shape)"
      ],
      "execution_count": 31,
      "outputs": [
        {
          "output_type": "stream",
          "text": [
            "(10, 145, 145)\n"
          ],
          "name": "stdout"
        }
      ]
    },
    {
      "cell_type": "code",
      "metadata": {
        "id": "z5SEggk8y8Yo",
        "colab_type": "code",
        "colab": {}
      },
      "source": [
        "c = np.amin(b)\n",
        "d = np.amax(b)"
      ],
      "execution_count": 38,
      "outputs": []
    },
    {
      "cell_type": "code",
      "metadata": {
        "id": "8nwzlDcRzDf7",
        "colab_type": "code",
        "colab": {
          "base_uri": "https://localhost:8080/",
          "height": 52
        },
        "outputId": "6a0f7cb9-088a-46ce-f1fa-c971b2f0b545"
      },
      "source": [
        "print(c)\n",
        "print(d)"
      ],
      "execution_count": 39,
      "outputs": [
        {
          "output_type": "stream",
          "text": [
            "-1.7735229066761196\n",
            "1.8401188043113101\n"
          ],
          "name": "stdout"
        }
      ]
    },
    {
      "cell_type": "code",
      "metadata": {
        "id": "fFkalWxozXla",
        "colab_type": "code",
        "colab": {
          "base_uri": "https://localhost:8080/",
          "height": 322
        },
        "outputId": "1235dc9e-55b5-49ae-e4a6-6a73991ef404"
      },
      "source": [
        "print('Enter the band number of the image you want to view (The number to be between 0 and 199): ')\n",
        "count = int(input())\n",
        "one_band = b[count, :, :]\n",
        "plt.imshow(one_band, cmap = \"jet\", interpolation='nearest')\n",
        "print(one_band.shape)"
      ],
      "execution_count": 44,
      "outputs": [
        {
          "output_type": "stream",
          "text": [
            "Enter the band number of the image you want to view (The number to be between 0 and 199): \n",
            "3\n",
            "(145, 145)\n"
          ],
          "name": "stdout"
        },
        {
          "output_type": "display_data",
          "data": {
            "image/png": "[encoded data removed]",
            "text/plain": [
              "<Figure size 432x288 with 1 Axes>"
            ]
          },
          "metadata": {
            "tags": [],
            "needs_background": "light"
          }
        }
      ]
    },
    {
      "cell_type": "code",
      "metadata": {
        "id": "rA0ncOyWz0Q_",
        "colab_type": "code",
        "colab": {}
      },
      "source": [
        ""
      ],
      "execution_count": null,
      "outputs": []
    }
  ]
}