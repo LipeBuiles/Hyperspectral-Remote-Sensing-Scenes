{
  "nbformat": 4,
  "nbformat_minor": 0,
  "metadata": {
    "colab": {
      "name": "Hyperspectral Remote Sensing Scenes.ipynb",
      "provenance": [],
      "collapsed_sections": [],
      "mount_file_id": "https://github.com/elpinchepastel/Indian_Pines/blob/master/Hyperspectral_Remote_Sensing_Scenes.ipynb",
      "authorship_tag": "ABX9TyNB4jzWqCAZMms+t+vch5yO",
      "include_colab_link": true
    },
    "kernelspec": {
      "name": "python3",
      "display_name": "Python 3"
    },
    "accelerator": "GPU"
  },
  "cells": [
    {
      "cell_type": "markdown",
      "metadata": {
        "id": "view-in-github",
        "colab_type": "text"
      },
      "source": [
        "<a href=\"https://colab.research.google.com/github/elpinchepastel/Indian_Pines/blob/master/Hyperspectral_Remote_Sensing_Scenes.ipynb\" target=\"_parent\"><img src=\"https://colab.research.google.com/assets/colab-badge.svg\" alt=\"Open In Colab\"/></a>"
      ]
    },
    {
      "cell_type": "code",
      "metadata": {
        "id": "mzEiw9A1kVNZ",
        "colab_type": "code",
        "colab": {}
      },
      "source": [
        "import numpy as np\n",
        "import matplotlib.pyplot as plt\n",
        "import scipy.io\n",
        "import scipy.io as sio\n",
        "from scipy import stats, optimize, interpolate\n",
        "from scipy.io import loadmat"
      ],
      "execution_count": 1,
      "outputs": []
    },
    {
      "cell_type": "code",
      "metadata": {
        "id": "U_4KfD_k9v7y",
        "colab_type": "code",
        "colab": {
          "base_uri": "https://localhost:8080/",
          "height": 72
        },
        "outputId": "08643f88-ad8e-407e-b966-5c02e2dccd84"
      },
      "source": [
        "annots = loadmat('/content/drive/My Drive/ITM/Indian Pines/Indian_pines_gt.mat')\n",
        "print(type(annots))\n",
        "print(annots.keys())\n",
        "print(type(annots['indian_pines_gt']),annots['indian_pines_gt'].shape)"
      ],
      "execution_count": 2,
      "outputs": [
        {
          "output_type": "stream",
          "text": [
            "<class 'dict'>\n",
            "dict_keys(['__header__', '__version__', '__globals__', 'indian_pines_gt'])\n",
            "<class 'numpy.ndarray'> (145, 145)\n"
          ],
          "name": "stdout"
        }
      ]
    },
    {
      "cell_type": "code",
      "metadata": {
        "id": "aM7ie0Xj-NGm",
        "colab_type": "code",
        "colab": {
          "base_uri": "https://localhost:8080/",
          "height": 72
        },
        "outputId": "798a2580-fec8-434d-faff-d34d8762c043"
      },
      "source": [
        "annots = loadmat('/content/drive/My Drive/ITM/Indian Pines/Indian_pines_corrected.mat')\n",
        "print(type(annots))\n",
        "print(annots.keys())\n",
        "print(type(annots['indian_pines_corrected']),annots['indian_pines_corrected'].shape)"
      ],
      "execution_count": 3,
      "outputs": [
        {
          "output_type": "stream",
          "text": [
            "<class 'dict'>\n",
            "dict_keys(['__header__', '__version__', '__globals__', 'indian_pines_corrected'])\n",
            "<class 'numpy.ndarray'> (145, 145, 200)\n"
          ],
          "name": "stdout"
        }
      ]
    },
    {
      "cell_type": "code",
      "metadata": {
        "id": "zCzr6E7D9tbO",
        "colab_type": "code",
        "colab": {
          "base_uri": "https://localhost:8080/",
          "height": 35
        },
        "outputId": "f3c469ef-80f9-409c-b308-9d33a600ae2e"
      },
      "source": [
        "data = scipy.io.loadmat('/content/drive/My Drive/ITM/Indian Pines/Indian_pines_corrected.mat')['indian_pines_corrected']\n",
        "print(data.shape)"
      ],
      "execution_count": 4,
      "outputs": [
        {
          "output_type": "stream",
          "text": [
            "(145, 145, 200)\n"
          ],
          "name": "stdout"
        }
      ]
    },
    {
      "cell_type": "code",
      "metadata": {
        "id": "MRJFNg0con6y",
        "colab_type": "code",
        "colab": {
          "base_uri": "https://localhost:8080/",
          "height": 35
        },
        "outputId": "6f27bab4-5465-483a-aaa7-54b18e8c12aa"
      },
      "source": [
        "indian_pines_gt = scipy.io.loadmat('/content/drive/My Drive/ITM/Indian Pines/Indian_pines_gt.mat')['indian_pines_gt']\n",
        "print(indian_pines_gt.shape)"
      ],
      "execution_count": 5,
      "outputs": [
        {
          "output_type": "stream",
          "text": [
            "(145, 145)\n"
          ],
          "name": "stdout"
        }
      ]
    },
    {
      "cell_type": "code",
      "metadata": {
        "id": "E7FQ2vC1rl4S",
        "colab_type": "code",
        "colab": {
          "base_uri": "https://localhost:8080/",
          "height": 54
        },
        "outputId": "aebae82b-3141-4536-e25a-e7ac38bfc9f9"
      },
      "source": [
        "print(type(data))\n",
        "print(type(indian_pines_gt))"
      ],
      "execution_count": 6,
      "outputs": [
        {
          "output_type": "stream",
          "text": [
            "<class 'numpy.ndarray'>\n",
            "<class 'numpy.ndarray'>\n"
          ],
          "name": "stdout"
        }
      ]
    },
    {
      "cell_type": "code",
      "metadata": {
        "id": "BkOMZh7iotFL",
        "colab_type": "code",
        "colab": {
          "base_uri": "https://localhost:8080/",
          "height": 35
        },
        "outputId": "a5fe15dd-29f7-4425-fe12-e3ce72bfaf11"
      },
      "source": [
        "sio.whosmat('/content/drive/My Drive/ITM/Indian Pines/Indian_pines_corrected.mat')"
      ],
      "execution_count": 7,
      "outputs": [
        {
          "output_type": "execute_result",
          "data": {
            "text/plain": [
              "[('indian_pines_corrected', (145, 145, 200), 'double')]"
            ]
          },
          "metadata": {
            "tags": []
          },
          "execution_count": 7
        }
      ]
    },
    {
      "cell_type": "code",
      "metadata": {
        "id": "CfC4pbx23rjA",
        "colab_type": "code",
        "colab": {
          "base_uri": "https://localhost:8080/",
          "height": 35
        },
        "outputId": "4aeccc96-e41b-4a48-c136-5cb406f76480"
      },
      "source": [
        "sio.whosmat('/content/drive/My Drive/ITM/Indian Pines/Indian_pines_gt.mat')"
      ],
      "execution_count": 8,
      "outputs": [
        {
          "output_type": "execute_result",
          "data": {
            "text/plain": [
              "[('indian_pines_gt', (145, 145), 'double')]"
            ]
          },
          "metadata": {
            "tags": []
          },
          "execution_count": 8
        }
      ]
    },
    {
      "cell_type": "code",
      "metadata": {
        "id": "KlZ9Cp3iZhja",
        "colab_type": "code",
        "colab": {
          "base_uri": "https://localhost:8080/",
          "height": 145
        },
        "outputId": "e3164488-98af-42cd-9dd4-95a3e2e8b976"
      },
      "source": [
        "print(indian_pines_gt)"
      ],
      "execution_count": 9,
      "outputs": [
        {
          "output_type": "stream",
          "text": [
            "[[3 3 3 ... 0 0 0]\n",
            " [3 3 3 ... 0 0 0]\n",
            " [3 3 3 ... 0 0 0]\n",
            " ...\n",
            " [0 0 0 ... 0 0 0]\n",
            " [0 0 0 ... 0 0 0]\n",
            " [0 0 0 ... 0 0 0]]\n"
          ],
          "name": "stdout"
        }
      ]
    },
    {
      "cell_type": "code",
      "metadata": {
        "id": "85IhiEV0aJz6",
        "colab_type": "code",
        "colab": {
          "base_uri": "https://localhost:8080/",
          "height": 908
        },
        "outputId": "72390ebe-bc34-4867-ad3f-31105aa3de98"
      },
      "source": [
        "print(data)"
      ],
      "execution_count": 10,
      "outputs": [
        {
          "output_type": "stream",
          "text": [
            "[[[3172 4142 4506 ... 1057 1020 1020]\n",
            "  [2580 4266 4502 ... 1064 1029 1020]\n",
            "  [3687 4266 4421 ... 1061 1030 1016]\n",
            "  ...\n",
            "  [2570 3890 4320 ... 1042 1021 1015]\n",
            "  [3170 4130 4320 ... 1054 1024 1020]\n",
            "  [3172 3890 4316 ... 1043 1034 1016]]\n",
            "\n",
            " [[2576 4388 4334 ... 1047 1030 1006]\n",
            "  [2747 4264 4592 ... 1055 1039 1015]\n",
            "  [2750 4268 4423 ... 1047 1026 1015]\n",
            "  ...\n",
            "  [3859 4512 4605 ... 1056 1035 1015]\n",
            "  [3686 4264 4690 ... 1051 1012 1020]\n",
            "  [2744 4268 4597 ... 1047 1019 1016]]\n",
            "\n",
            " [[2744 4146 4416 ... 1055 1029 1025]\n",
            "  [2576 4389 4416 ... 1051 1021 1011]\n",
            "  [2744 4273 4420 ... 1068 1033 1010]\n",
            "  ...\n",
            "  [2570 4266 4509 ... 1051 1025 1010]\n",
            "  [2576 4262 4496 ... 1047 1029 1020]\n",
            "  [2742 4142 4230 ... 1042 1025 1011]]\n",
            "\n",
            " ...\n",
            "\n",
            " [[3324 3728 4002 ... 1003 1004 1004]\n",
            "  [2983 3604 3829 ... 1011 1013 1008]\n",
            "  [2988 3612 3913 ... 1012 1001 1004]\n",
            "  ...\n",
            "  [2564 4115 4103 ... 1003 1005 1013]\n",
            "  [2730 4111 4103 ... 1015 1013 1004]\n",
            "  [3156 3991 4103 ... 1017 1014 1000]]\n",
            "\n",
            " [[3161 3731 3834 ... 1002 1000 1000]\n",
            "  [2727 3742 4011 ...  999  991 1003]\n",
            "  [2988 4114 4011 ... 1006 1008 1013]\n",
            "  ...\n",
            "  [3156 3858 4016 ... 1011 1004 1003]\n",
            "  [3159 3858 4100 ... 1016 1000 1000]\n",
            "  [2561 3866 4003 ... 1008 1008 1000]]\n",
            "\n",
            " [[2979 3728 3732 ... 1006 1004 1000]\n",
            "  [2977 3728 3741 ... 1007 1009  990]\n",
            "  [2814 3728 3914 ...  999 1009 1003]\n",
            "  ...\n",
            "  [3153 3864 4282 ... 1003 1008 1000]\n",
            "  [3155 4104 4106 ... 1011 1005 1003]\n",
            "  [3323 3860 4197 ... 1007 1004 1000]]]\n"
          ],
          "name": "stdout"
        }
      ]
    },
    {
      "cell_type": "code",
      "metadata": {
        "id": "QFjhuz_M8KHJ",
        "colab_type": "code",
        "colab": {
          "base_uri": "https://localhost:8080/",
          "height": 270
        },
        "outputId": "945d691b-7ef2-44d3-8213-8c2245f8b1e0"
      },
      "source": [
        "plt.imshow(indian_pines_gt)\n",
        "plt.title('Groundtruth of Indian Pines dataset')\n",
        "plt.colorbar()\n",
        "plt.xticks([])\n",
        "plt.yticks([])\n",
        "plt.show()"
      ],
      "execution_count": 11,
      "outputs": [
        {
          "output_type": "display_data",
          "data": {
            "image/png": "[encoded data removed]",
            "text/plain": [
              "<Figure size 432x288 with 2 Axes>"
            ]
          },
          "metadata": {
            "tags": [],
            "needs_background": "light"
          }
        }
      ]
    },
    {
      "cell_type": "code",
      "metadata": {
        "id": "PD9lywNfqRjr",
        "colab_type": "code",
        "colab": {
          "base_uri": "https://localhost:8080/",
          "height": 270
        },
        "outputId": "f377d57e-7454-47e8-9275-cd7b8ce0b825"
      },
      "source": [
        "plt.imshow(indian_pines_gt, cmap = \"jet\", interpolation='nearest')\n",
        "plt.title('Groundtruth of Indian Pines dataset for property cmap = \"jet\"')\n",
        "plt.colorbar()\n",
        "plt.savefig('/content/drive/My Drive/ITM/Indian Pines/img/imagen1.png')\n",
        "\n",
        "plt.xticks([])\n",
        "plt.yticks([])\n",
        "plt.show()"
      ],
      "execution_count": 12,
      "outputs": [
        {
          "output_type": "display_data",
          "data": {
            "image/png": "[encoded data removed]",
            "text/plain": [
              "<Figure size 432x288 with 2 Axes>"
            ]
          },
          "metadata": {
            "tags": [],
            "needs_background": "light"
          }
        }
      ]
    },
    {
      "cell_type": "code",
      "metadata": {
        "id": "9aEebMTgx5Sa",
        "colab_type": "code",
        "colab": {}
      },
      "source": [
        "#from IPython.display import Image\n",
        "#Image('/content/drive/My Drive/ITM/Indian Pines/img/imagen.png')"
      ],
      "execution_count": 13,
      "outputs": []
    }
  ]
}