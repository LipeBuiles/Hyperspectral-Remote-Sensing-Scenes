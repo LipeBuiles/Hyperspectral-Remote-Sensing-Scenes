{
  "nbformat": 4,
  "nbformat_minor": 0,
  "metadata": {
    "colab": {
      "name": "Hyperspectral Remote Sensing Scenes.ipynb",
      "provenance": [],
      "collapsed_sections": [],
      "authorship_tag": "ABX9TyOIzXI1MTj/s/Z0cEhLoJre",
      "include_colab_link": true
    },
    "kernelspec": {
      "name": "python3",
      "display_name": "Python 3"
    },
    "accelerator": "GPU"
  },
  "cells": [
    {
      "cell_type": "markdown",
      "metadata": {
        "id": "view-in-github",
        "colab_type": "text"
      },
      "source": [
        "<a href=\"https://colab.research.google.com/github/elpinchepastel/Indian_Pines/blob/master/Hyperspectral_Remote_Sensing_Scenes.ipynb\" target=\"_parent\"><img src=\"https://colab.research.google.com/assets/colab-badge.svg\" alt=\"Open In Colab\"/></a>"
      ]
    },
    {
      "cell_type": "code",
      "metadata": {
        "id": "mzEiw9A1kVNZ",
        "colab_type": "code",
        "colab": {
          "base_uri": "https://localhost:8080/",
          "height": 34
        },
        "outputId": "74e4db0c-f20e-4a26-a2e8-1126285d84e7"
      },
      "source": [
        "import numpy as np\n",
        "import scipy.io\n",
        "import scipy.io as sio\n",
        "from scipy import stats, optimize, interpolate\n",
        "data = scipy.io.loadmat('/content/drive/My Drive/ITM/Indian Pines/Indian_pines.mat')['indian_pines']\n",
        "print(data.shape)"
      ],
      "execution_count": 1,
      "outputs": [
        {
          "output_type": "stream",
          "text": [
            "(145, 145, 220)\n"
          ],
          "name": "stdout"
        }
      ]
    },
    {
      "cell_type": "code",
      "metadata": {
        "id": "MRJFNg0con6y",
        "colab_type": "code",
        "colab": {
          "base_uri": "https://localhost:8080/",
          "height": 34
        },
        "outputId": "1c06cd26-c6cf-461a-b00b-d782547fe75c"
      },
      "source": [
        "indian_pines_gt = scipy.io.loadmat('/content/drive/My Drive/ITM/Indian Pines/Indian_pines_gt.mat')['indian_pines_gt']\n",
        "print(indian_pines_gt.shape)"
      ],
      "execution_count": 2,
      "outputs": [
        {
          "output_type": "stream",
          "text": [
            "(145, 145)\n"
          ],
          "name": "stdout"
        }
      ]
    },
    {
      "cell_type": "code",
      "metadata": {
        "id": "E7FQ2vC1rl4S",
        "colab_type": "code",
        "colab": {
          "base_uri": "https://localhost:8080/",
          "height": 51
        },
        "outputId": "a1914533-a0b3-429c-e358-0762643edfe5"
      },
      "source": [
        "print(type(data))\n",
        "print(type(indian_pines_gt))"
      ],
      "execution_count": 3,
      "outputs": [
        {
          "output_type": "stream",
          "text": [
            "<class 'numpy.ndarray'>\n",
            "<class 'numpy.ndarray'>\n"
          ],
          "name": "stdout"
        }
      ]
    },
    {
      "cell_type": "code",
      "metadata": {
        "id": "BkOMZh7iotFL",
        "colab_type": "code",
        "colab": {
          "base_uri": "https://localhost:8080/",
          "height": 34
        },
        "outputId": "cb937e9f-57be-40e3-8506-407485612c95"
      },
      "source": [
        "sio.whosmat('/content/drive/My Drive/ITM/Indian Pines/Indian_pines.mat')"
      ],
      "execution_count": 4,
      "outputs": [
        {
          "output_type": "execute_result",
          "data": {
            "text/plain": [
              "[('indian_pines', (145, 145, 220), 'double')]"
            ]
          },
          "metadata": {
            "tags": []
          },
          "execution_count": 4
        }
      ]
    },
    {
      "cell_type": "code",
      "metadata": {
        "id": "CfC4pbx23rjA",
        "colab_type": "code",
        "colab": {
          "base_uri": "https://localhost:8080/",
          "height": 34
        },
        "outputId": "82e7a885-0677-4119-e9d1-f0be3e6a8696"
      },
      "source": [
        "sio.whosmat('/content/drive/My Drive/ITM/Indian Pines/Indian_pines_gt.mat')"
      ],
      "execution_count": 5,
      "outputs": [
        {
          "output_type": "execute_result",
          "data": {
            "text/plain": [
              "[('indian_pines_gt', (145, 145), 'double')]"
            ]
          },
          "metadata": {
            "tags": []
          },
          "execution_count": 5
        }
      ]
    },
    {
      "cell_type": "code",
      "metadata": {
        "id": "czcBqoN44G_D",
        "colab_type": "code",
        "colab": {
          "base_uri": "https://localhost:8080/",
          "height": 34
        },
        "outputId": "45b21392-89b5-49c1-8c06-908205bfac41"
      },
      "source": [
        "from keras.utils import to_categorical\n",
        "Y_indian_pines = to_categorical(Y_indian_pines)"
      ],
      "execution_count": null,
      "outputs": [
        {
          "output_type": "stream",
          "text": [
            "Using TensorFlow backend.\n"
          ],
          "name": "stderr"
        }
      ]
    },
    {
      "cell_type": "code",
      "metadata": {
        "id": "n5a8VX_V4N3L",
        "colab_type": "code",
        "colab": {
          "base_uri": "https://localhost:8080/",
          "height": 51
        },
        "outputId": "f80a2da8-34b4-4abd-9d02-1b0e8b638d17"
      },
      "source": [
        "print(X_indian_pines.shape)\n",
        "print(Y_indian_pines.shape)"
      ],
      "execution_count": 8,
      "outputs": [
        {
          "output_type": "stream",
          "text": [
            "(4205, 5, 5, 220)\n",
            "(4205, 17)\n"
          ],
          "name": "stdout"
        }
      ]
    }
  ]
}