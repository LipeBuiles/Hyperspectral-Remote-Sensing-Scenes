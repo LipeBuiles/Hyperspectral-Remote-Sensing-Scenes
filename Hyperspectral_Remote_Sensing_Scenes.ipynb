{
  "nbformat": 4,
  "nbformat_minor": 0,
  "metadata": {
    "colab": {
      "name": "Hyperspectral Remote Sensing Scenes.ipynb",
      "provenance": [],
      "collapsed_sections": [],
      "authorship_tag": "ABX9TyNxJlFFSdDFzPzjPc+2X6ji",
      "include_colab_link": true
    },
    "kernelspec": {
      "name": "python3",
      "display_name": "Python 3"
    }
  },
  "cells": [
    {
      "cell_type": "markdown",
      "metadata": {
        "id": "view-in-github",
        "colab_type": "text"
      },
      "source": [
        "<a href=\"https://colab.research.google.com/github/elpinchepastel/Indian_Pines/blob/master/Hyperspectral_Remote_Sensing_Scenes.ipynb\" target=\"_parent\"><img src=\"https://colab.research.google.com/assets/colab-badge.svg\" alt=\"Open In Colab\"/></a>"
      ]
    },
    {
      "cell_type": "code",
      "metadata": {
        "id": "mzEiw9A1kVNZ",
        "colab_type": "code",
        "colab": {}
      },
      "source": [
        "import scipy.io as sio"
      ],
      "execution_count": null,
      "outputs": []
    },
    {
      "cell_type": "code",
      "metadata": {
        "id": "MRJFNg0con6y",
        "colab_type": "code",
        "colab": {}
      },
      "source": [
        "mat = sio.loadmat('Indian_pines.mat')"
      ],
      "execution_count": null,
      "outputs": []
    },
    {
      "cell_type": "code",
      "metadata": {
        "id": "E7FQ2vC1rl4S",
        "colab_type": "code",
        "colab": {}
      },
      "source": [
        "print(type(mat))"
      ],
      "execution_count": null,
      "outputs": []
    },
    {
      "cell_type": "code",
      "metadata": {
        "id": "BkOMZh7iotFL",
        "colab_type": "code",
        "colab": {}
      },
      "source": [
        "sio.whosmat('Indian_pines.mat')"
      ],
      "execution_count": null,
      "outputs": []
    }
  ]
}