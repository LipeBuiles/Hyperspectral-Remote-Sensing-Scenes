{
  "nbformat": 4,
  "nbformat_minor": 0,
  "metadata": {
    "colab": {
      "name": "Hyperspectral Remote Sensing Scenes.ipynb",
      "provenance": [],
      "collapsed_sections": [],
      "mount_file_id": "https://github.com/elpinchepastel/Indian_Pines/blob/master/Hyperspectral_Remote_Sensing_Scenes.ipynb",
      "authorship_tag": "ABX9TyOl29VAOz9Cj15w3/S7rsVA",
      "include_colab_link": true
    },
    "kernelspec": {
      "name": "python3",
      "display_name": "Python 3"
    },
    "accelerator": "GPU"
  },
  "cells": [
    {
      "cell_type": "markdown",
      "metadata": {
        "id": "view-in-github",
        "colab_type": "text"
      },
      "source": [
        "<a href=\"https://colab.research.google.com/github/elpinchepastel/Indian_Pines/blob/master/Hyperspectral_Remote_Sensing_Scenes.ipynb\" target=\"_parent\"><img src=\"https://colab.research.google.com/assets/colab-badge.svg\" alt=\"Open In Colab\"/></a>"
      ]
    },
    {
      "cell_type": "code",
      "metadata": {
        "id": "mzEiw9A1kVNZ",
        "colab_type": "code",
        "colab": {}
      },
      "source": [
        "import numpy as np\n",
        "import matplotlib.pyplot as plt\n",
        "import scipy.io\n",
        "import scipy.io as sio\n",
        "from scipy import stats, optimize, interpolate\n",
        "from scipy.io import loadmat\n",
        "import sklearn.preprocessing as sp\n",
        "from sklearn.decomposition import PCA"
      ],
      "execution_count": 1,
      "outputs": []
    },
    {
      "cell_type": "code",
      "metadata": {
        "id": "U_4KfD_k9v7y",
        "colab_type": "code",
        "colab": {
          "base_uri": "https://localhost:8080/",
          "height": 72
        },
        "outputId": "fce866ef-c6b4-4818-82b4-cfc4501c38d3"
      },
      "source": [
        "annots = loadmat('/content/drive/My Drive/ITM/Indian Pines/Indian_pines_gt.mat')\n",
        "print(type(annots))\n",
        "print(annots.keys())\n",
        "print(type(annots['indian_pines_gt']),annots['indian_pines_gt'].shape)"
      ],
      "execution_count": 2,
      "outputs": [
        {
          "output_type": "stream",
          "text": [
            "<class 'dict'>\n",
            "dict_keys(['__header__', '__version__', '__globals__', 'indian_pines_gt'])\n",
            "<class 'numpy.ndarray'> (145, 145)\n"
          ],
          "name": "stdout"
        }
      ]
    },
    {
      "cell_type": "code",
      "metadata": {
        "id": "aM7ie0Xj-NGm",
        "colab_type": "code",
        "colab": {
          "base_uri": "https://localhost:8080/",
          "height": 72
        },
        "outputId": "79c10431-c30c-467a-a02b-f088639ea2f4"
      },
      "source": [
        "annots = loadmat('/content/drive/My Drive/ITM/Indian Pines/Indian_pines_corrected.mat')\n",
        "print(type(annots))\n",
        "print(annots.keys())\n",
        "print(type(annots['indian_pines_corrected']),annots['indian_pines_corrected'].shape)"
      ],
      "execution_count": 3,
      "outputs": [
        {
          "output_type": "stream",
          "text": [
            "<class 'dict'>\n",
            "dict_keys(['__header__', '__version__', '__globals__', 'indian_pines_corrected'])\n",
            "<class 'numpy.ndarray'> (145, 145, 200)\n"
          ],
          "name": "stdout"
        }
      ]
    },
    {
      "cell_type": "code",
      "metadata": {
        "id": "zCzr6E7D9tbO",
        "colab_type": "code",
        "colab": {
          "base_uri": "https://localhost:8080/",
          "height": 35
        },
        "outputId": "45e5c04d-078a-45f6-f42e-a948ad25d49f"
      },
      "source": [
        "data = scipy.io.loadmat('/content/drive/My Drive/ITM/Indian Pines/Indian_pines_corrected.mat')['indian_pines_corrected']\n",
        "print(data.shape)"
      ],
      "execution_count": 4,
      "outputs": [
        {
          "output_type": "stream",
          "text": [
            "(145, 145, 200)\n"
          ],
          "name": "stdout"
        }
      ]
    },
    {
      "cell_type": "code",
      "metadata": {
        "id": "MRJFNg0con6y",
        "colab_type": "code",
        "colab": {
          "base_uri": "https://localhost:8080/",
          "height": 35
        },
        "outputId": "af3a009b-1636-4f33-dc54-931a283d91a1"
      },
      "source": [
        "indian_pines_gt = scipy.io.loadmat('/content/drive/My Drive/ITM/Indian Pines/Indian_pines_gt.mat')['indian_pines_gt']\n",
        "print(indian_pines_gt.shape)"
      ],
      "execution_count": 5,
      "outputs": [
        {
          "output_type": "stream",
          "text": [
            "(145, 145)\n"
          ],
          "name": "stdout"
        }
      ]
    },
    {
      "cell_type": "code",
      "metadata": {
        "id": "E7FQ2vC1rl4S",
        "colab_type": "code",
        "colab": {
          "base_uri": "https://localhost:8080/",
          "height": 54
        },
        "outputId": "867b45b0-347f-4c9f-ce99-8e9d01ac27b2"
      },
      "source": [
        "print(type(data))\n",
        "print(type(indian_pines_gt))"
      ],
      "execution_count": 6,
      "outputs": [
        {
          "output_type": "stream",
          "text": [
            "<class 'numpy.ndarray'>\n",
            "<class 'numpy.ndarray'>\n"
          ],
          "name": "stdout"
        }
      ]
    },
    {
      "cell_type": "code",
      "metadata": {
        "id": "BkOMZh7iotFL",
        "colab_type": "code",
        "colab": {
          "base_uri": "https://localhost:8080/",
          "height": 35
        },
        "outputId": "b8e59497-2261-47da-925b-a586abfc2444"
      },
      "source": [
        "sio.whosmat('/content/drive/My Drive/ITM/Indian Pines/Indian_pines_corrected.mat')"
      ],
      "execution_count": 7,
      "outputs": [
        {
          "output_type": "execute_result",
          "data": {
            "text/plain": [
              "[('indian_pines_corrected', (145, 145, 200), 'double')]"
            ]
          },
          "metadata": {
            "tags": []
          },
          "execution_count": 7
        }
      ]
    },
    {
      "cell_type": "code",
      "metadata": {
        "id": "CfC4pbx23rjA",
        "colab_type": "code",
        "colab": {
          "base_uri": "https://localhost:8080/",
          "height": 35
        },
        "outputId": "07422a07-6713-47f8-c3ec-105d59908eec"
      },
      "source": [
        "sio.whosmat('/content/drive/My Drive/ITM/Indian Pines/Indian_pines_gt.mat')"
      ],
      "execution_count": 8,
      "outputs": [
        {
          "output_type": "execute_result",
          "data": {
            "text/plain": [
              "[('indian_pines_gt', (145, 145), 'double')]"
            ]
          },
          "metadata": {
            "tags": []
          },
          "execution_count": 8
        }
      ]
    },
    {
      "cell_type": "code",
      "metadata": {
        "id": "KlZ9Cp3iZhja",
        "colab_type": "code",
        "colab": {
          "base_uri": "https://localhost:8080/",
          "height": 145
        },
        "outputId": "ee95acb5-0ff9-4a7a-b08e-6f8866527c21"
      },
      "source": [
        "print(indian_pines_gt)"
      ],
      "execution_count": 9,
      "outputs": [
        {
          "output_type": "stream",
          "text": [
            "[[3 3 3 ... 0 0 0]\n",
            " [3 3 3 ... 0 0 0]\n",
            " [3 3 3 ... 0 0 0]\n",
            " ...\n",
            " [0 0 0 ... 0 0 0]\n",
            " [0 0 0 ... 0 0 0]\n",
            " [0 0 0 ... 0 0 0]]\n"
          ],
          "name": "stdout"
        }
      ]
    },
    {
      "cell_type": "code",
      "metadata": {
        "id": "85IhiEV0aJz6",
        "colab_type": "code",
        "colab": {
          "base_uri": "https://localhost:8080/",
          "height": 908
        },
        "outputId": "04f8e829-774e-42be-bf0a-f9cc661f9466"
      },
      "source": [
        "print(data)"
      ],
      "execution_count": 10,
      "outputs": [
        {
          "output_type": "stream",
          "text": [
            "[[[3172 4142 4506 ... 1057 1020 1020]\n",
            "  [2580 4266 4502 ... 1064 1029 1020]\n",
            "  [3687 4266 4421 ... 1061 1030 1016]\n",
            "  ...\n",
            "  [2570 3890 4320 ... 1042 1021 1015]\n",
            "  [3170 4130 4320 ... 1054 1024 1020]\n",
            "  [3172 3890 4316 ... 1043 1034 1016]]\n",
            "\n",
            " [[2576 4388 4334 ... 1047 1030 1006]\n",
            "  [2747 4264 4592 ... 1055 1039 1015]\n",
            "  [2750 4268 4423 ... 1047 1026 1015]\n",
            "  ...\n",
            "  [3859 4512 4605 ... 1056 1035 1015]\n",
            "  [3686 4264 4690 ... 1051 1012 1020]\n",
            "  [2744 4268 4597 ... 1047 1019 1016]]\n",
            "\n",
            " [[2744 4146 4416 ... 1055 1029 1025]\n",
            "  [2576 4389 4416 ... 1051 1021 1011]\n",
            "  [2744 4273 4420 ... 1068 1033 1010]\n",
            "  ...\n",
            "  [2570 4266 4509 ... 1051 1025 1010]\n",
            "  [2576 4262 4496 ... 1047 1029 1020]\n",
            "  [2742 4142 4230 ... 1042 1025 1011]]\n",
            "\n",
            " ...\n",
            "\n",
            " [[3324 3728 4002 ... 1003 1004 1004]\n",
            "  [2983 3604 3829 ... 1011 1013 1008]\n",
            "  [2988 3612 3913 ... 1012 1001 1004]\n",
            "  ...\n",
            "  [2564 4115 4103 ... 1003 1005 1013]\n",
            "  [2730 4111 4103 ... 1015 1013 1004]\n",
            "  [3156 3991 4103 ... 1017 1014 1000]]\n",
            "\n",
            " [[3161 3731 3834 ... 1002 1000 1000]\n",
            "  [2727 3742 4011 ...  999  991 1003]\n",
            "  [2988 4114 4011 ... 1006 1008 1013]\n",
            "  ...\n",
            "  [3156 3858 4016 ... 1011 1004 1003]\n",
            "  [3159 3858 4100 ... 1016 1000 1000]\n",
            "  [2561 3866 4003 ... 1008 1008 1000]]\n",
            "\n",
            " [[2979 3728 3732 ... 1006 1004 1000]\n",
            "  [2977 3728 3741 ... 1007 1009  990]\n",
            "  [2814 3728 3914 ...  999 1009 1003]\n",
            "  ...\n",
            "  [3153 3864 4282 ... 1003 1008 1000]\n",
            "  [3155 4104 4106 ... 1011 1005 1003]\n",
            "  [3323 3860 4197 ... 1007 1004 1000]]]\n"
          ],
          "name": "stdout"
        }
      ]
    },
    {
      "cell_type": "code",
      "metadata": {
        "id": "QFjhuz_M8KHJ",
        "colab_type": "code",
        "colab": {
          "base_uri": "https://localhost:8080/",
          "height": 270
        },
        "outputId": "b1731dfa-35f4-4af3-e122-a4b91d9e7c57"
      },
      "source": [
        "plt.imshow(indian_pines_gt)\n",
        "plt.title('Groundtruth of Indian Pines dataset')\n",
        "plt.colorbar()\n",
        "plt.xticks([])\n",
        "plt.yticks([])\n",
        "plt.show()"
      ],
      "execution_count": 11,
      "outputs": [
        {
          "output_type": "display_data",
          "data": {
            "image/png": "[encoded data removed]",
            "text/plain": [
              "<Figure size 432x288 with 2 Axes>"
            ]
          },
          "metadata": {
            "tags": [],
            "needs_background": "light"
          }
        }
      ]
    },
    {
      "cell_type": "code",
      "metadata": {
        "id": "PD9lywNfqRjr",
        "colab_type": "code",
        "colab": {
          "base_uri": "https://localhost:8080/",
          "height": 270
        },
        "outputId": "b62ef7db-3919-4d3b-b9b3-40a3f689cc2e"
      },
      "source": [
        "plt.imshow(indian_pines_gt, cmap = \"jet\", interpolation='nearest')\n",
        "plt.title('Groundtruth of Indian Pines dataset for property cmap = \"jet\"')\n",
        "plt.colorbar()\n",
        "plt.savefig('/content/drive/My Drive/ITM/Indian Pines/img/imagen1.png')\n",
        "\n",
        "plt.xticks([])\n",
        "plt.yticks([])\n",
        "plt.show()"
      ],
      "execution_count": 12,
      "outputs": [
        {
          "output_type": "display_data",
          "data": {
            "image/png": "[encoded data removed]",
            "text/plain": [
              "<Figure size 432x288 with 2 Axes>"
            ]
          },
          "metadata": {
            "tags": [],
            "needs_background": "light"
          }
        }
      ]
    },
    {
      "cell_type": "code",
      "metadata": {
        "id": "9aEebMTgx5Sa",
        "colab_type": "code",
        "colab": {}
      },
      "source": [
        "#from IPython.display import Image\n",
        "#Image('/content/drive/My Drive/ITM/Indian Pines/img/imagen.png')"
      ],
      "execution_count": 13,
      "outputs": []
    },
    {
      "cell_type": "code",
      "metadata": {
        "id": "x-7Lv1uJzQUB",
        "colab_type": "code",
        "colab": {
          "base_uri": "https://localhost:8080/",
          "height": 324
        },
        "outputId": "866ffeb2-9ae3-4580-8081-0b6745072017"
      },
      "source": [
        "print('Enter the band number of the image you want to view (The number to be between 0 and 199): ')\n",
        "count = int(input())\n",
        "one_band = data[:, :, count]\n",
        "plt.imshow(one_band, cmap = \"jet\", interpolation='nearest')\n",
        "print(one_band.shape)"
      ],
      "execution_count": 14,
      "outputs": [
        {
          "output_type": "stream",
          "text": [
            "Enter the band number of the image you want to view (The number to be between 0 and 199): \n",
            "0\n",
            "(145, 145)\n"
          ],
          "name": "stdout"
        },
        {
          "output_type": "display_data",
          "data": {
            "image/png": "[encoded data removed]",
            "text/plain": [
              "<Figure size 432x288 with 1 Axes>"
            ]
          },
          "metadata": {
            "tags": [],
            "needs_background": "light"
          }
        }
      ]
    },
    {
      "cell_type": "code",
      "metadata": {
        "id": "lvH8y6Hp1zav",
        "colab_type": "code",
        "colab": {}
      },
      "source": [
        "data = data.transpose((2, 0, 1))"
      ],
      "execution_count": 15,
      "outputs": []
    },
    {
      "cell_type": "code",
      "metadata": {
        "id": "4MLnGf9z12Y6",
        "colab_type": "code",
        "colab": {
          "base_uri": "https://localhost:8080/",
          "height": 35
        },
        "outputId": "cefb25cf-3c24-44cd-bc9f-fec8d103d18c"
      },
      "source": [
        "print(data.shape)"
      ],
      "execution_count": 16,
      "outputs": [
        {
          "output_type": "stream",
          "text": [
            "(200, 145, 145)\n"
          ],
          "name": "stdout"
        }
      ]
    },
    {
      "cell_type": "code",
      "metadata": {
        "id": "jNmU27Vc16Ft",
        "colab_type": "code",
        "colab": {}
      },
      "source": [
        "array_expand = data[:,0,:]\n",
        "for i_row in range(1, data.shape[1]):\n",
        "    tempmatirx = data[:,i_row,:]\n",
        "    array_expand = np.hstack((array_expand,tempmatirx))"
      ],
      "execution_count": 17,
      "outputs": []
    },
    {
      "cell_type": "code",
      "metadata": {
        "id": "eV_tbZO33sYu",
        "colab_type": "code",
        "colab": {
          "base_uri": "https://localhost:8080/",
          "height": 35
        },
        "outputId": "33a2b89a-af59-4c09-f1db-ba9dca36c7d8"
      },
      "source": [
        "print(array_expand.shape)"
      ],
      "execution_count": 18,
      "outputs": [
        {
          "output_type": "stream",
          "text": [
            "(200, 21025)\n"
          ],
          "name": "stdout"
        }
      ]
    },
    {
      "cell_type": "code",
      "metadata": {
        "id": "SoVC42Kx6DXs",
        "colab_type": "code",
        "colab": {
          "base_uri": "https://localhost:8080/",
          "height": 145
        },
        "outputId": "a70c20a6-e1bc-4528-d4c6-46a7f2c39f42"
      },
      "source": [
        "print(array_expand)"
      ],
      "execution_count": 19,
      "outputs": [
        {
          "output_type": "stream",
          "text": [
            "[[3172 2580 3687 ... 3153 3155 3323]\n",
            " [4142 4266 4266 ... 3864 4104 3860]\n",
            " [4506 4502 4421 ... 4282 4106 4197]\n",
            " ...\n",
            " [1057 1064 1061 ... 1003 1011 1007]\n",
            " [1020 1029 1030 ... 1008 1005 1004]\n",
            " [1020 1020 1016 ... 1000 1003 1000]]\n"
          ],
          "name": "stdout"
        }
      ]
    },
    {
      "cell_type": "code",
      "metadata": {
        "id": "ioM_-Nmz6Hcr",
        "colab_type": "code",
        "colab": {
          "base_uri": "https://localhost:8080/",
          "height": 35
        },
        "outputId": "fee3cf0c-bee3-4290-9cce-61be61a467be"
      },
      "source": [
        "#array_expand.transpose((1, 0))\n",
        "print(array_expand.shape)"
      ],
      "execution_count": 20,
      "outputs": [
        {
          "output_type": "stream",
          "text": [
            "(200, 21025)\n"
          ],
          "name": "stdout"
        }
      ]
    },
    {
      "cell_type": "code",
      "metadata": {
        "id": "ewHsvQBr7DsA",
        "colab_type": "code",
        "colab": {
          "base_uri": "https://localhost:8080/",
          "height": 145
        },
        "outputId": "57b55a00-a11d-4be0-e3a9-75d6eaf82977"
      },
      "source": [
        "print(array_expand)"
      ],
      "execution_count": 21,
      "outputs": [
        {
          "output_type": "stream",
          "text": [
            "[[3172 2580 3687 ... 3153 3155 3323]\n",
            " [4142 4266 4266 ... 3864 4104 3860]\n",
            " [4506 4502 4421 ... 4282 4106 4197]\n",
            " ...\n",
            " [1057 1064 1061 ... 1003 1011 1007]\n",
            " [1020 1029 1030 ... 1008 1005 1004]\n",
            " [1020 1020 1016 ... 1000 1003 1000]]\n"
          ],
          "name": "stdout"
        }
      ]
    },
    {
      "cell_type": "code",
      "metadata": {
        "id": "5rIQy8858C7o",
        "colab_type": "code",
        "colab": {}
      },
      "source": [
        "array_expand_scaled = sp.scale(array_expand.T)"
      ],
      "execution_count": 22,
      "outputs": []
    },
    {
      "cell_type": "code",
      "metadata": {
        "id": "OlQHAt0E8EeN",
        "colab_type": "code",
        "colab": {
          "base_uri": "https://localhost:8080/",
          "height": 35
        },
        "outputId": "47e02485-1128-4d7a-ab55-cf8fda38a63f"
      },
      "source": [
        "print(array_expand_scaled.shape)"
      ],
      "execution_count": 23,
      "outputs": [
        {
          "output_type": "stream",
          "text": [
            "(21025, 200)\n"
          ],
          "name": "stdout"
        }
      ]
    },
    {
      "cell_type": "code",
      "metadata": {
        "id": "VkkcQ9p88Uv6",
        "colab_type": "code",
        "colab": {
          "base_uri": "https://localhost:8080/",
          "height": 254
        },
        "outputId": "76a33af8-f0bc-490b-afc4-f36d52f09704"
      },
      "source": [
        "print(array_expand_scaled)"
      ],
      "execution_count": 24,
      "outputs": [
        {
          "output_type": "stream",
          "text": [
            "[[ 0.6047628   0.21997468  0.8862633  ...  1.28472014  0.38894136\n",
            "   1.62910551]\n",
            " [-1.06326446  0.75820528  0.87074869 ...  1.62021647  1.17937664\n",
            "   1.62910551]\n",
            " [ 2.05583381  0.75820528  0.55657785 ...  1.47643233  1.26720278\n",
            "   1.06179023]\n",
            " ...\n",
            " [ 0.55122814 -0.98670358  0.01744517 ... -1.30339441 -0.66497235\n",
            "  -1.20747086]\n",
            " [ 0.55686337  0.05503305 -0.66519764 ... -0.91997003 -0.92845077\n",
            "  -0.7819844 ]\n",
            " [ 1.03022246 -1.00406586 -0.31224028 ... -1.11168222 -1.01627691\n",
            "  -1.20747086]]\n"
          ],
          "name": "stdout"
        }
      ]
    },
    {
      "cell_type": "code",
      "metadata": {
        "id": "wQO19K5_8W-X",
        "colab_type": "code",
        "colab": {}
      },
      "source": [
        "num_com = 15\n",
        "pca = PCA(n_components = num_com)\n",
        "array_pca = pca.fit_transform(array_expand_scaled)"
      ],
      "execution_count": 27,
      "outputs": []
    },
    {
      "cell_type": "code",
      "metadata": {
        "id": "ibglCErs8n-l",
        "colab_type": "code",
        "colab": {
          "base_uri": "https://localhost:8080/",
          "height": 272
        },
        "outputId": "2f5c614c-8133-41e3-c44d-b6986a2c4958"
      },
      "source": [
        "print(array_pca.shape)\n",
        "print(array_pca)"
      ],
      "execution_count": 28,
      "outputs": [
        {
          "output_type": "stream",
          "text": [
            "(21025, 15)\n",
            "[[ 10.57398474   4.21271342   0.18836777 ...  -0.16433472   0.1245733\n",
            "   -0.37751377]\n",
            " [ 13.15770743  -1.95441227   0.15436655 ...   0.5097304    0.52510158\n",
            "    1.25609054]\n",
            " [ 14.07035027  -3.84390553   0.10099211 ...  -0.26489426  -0.47303549\n",
            "    0.52994881]\n",
            " ...\n",
            " [-15.3038839   -3.54400039   0.64108545 ...  -0.20120585   0.19998074\n",
            "    0.17564869]\n",
            " [-15.37571036   1.1407       1.32109095 ...  -0.56569905   0.84739864\n",
            "   -0.0652168 ]\n",
            " [-15.33317397   0.18197926   1.24221297 ...  -0.39856001   0.54829695\n",
            "   -0.45204938]]\n"
          ],
          "name": "stdout"
        }
      ]
    }
  ]
}