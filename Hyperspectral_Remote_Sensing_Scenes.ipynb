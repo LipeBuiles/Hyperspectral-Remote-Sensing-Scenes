{
  "nbformat": 4,
  "nbformat_minor": 0,
  "metadata": {
    "colab": {
      "name": "Hyperspectral Remote Sensing Scenes.ipynb",
      "provenance": [],
      "collapsed_sections": [],
      "mount_file_id": "https://github.com/elpinchepastel/Indian_Pines/blob/master/Hyperspectral_Remote_Sensing_Scenes.ipynb",
      "authorship_tag": "ABX9TyMC8dC2c57AdSl/LyUkcrKn",
      "include_colab_link": true
    },
    "kernelspec": {
      "name": "python3",
      "display_name": "Python 3"
    },
    "accelerator": "GPU"
  },
  "cells": [
    {
      "cell_type": "markdown",
      "metadata": {
        "id": "view-in-github",
        "colab_type": "text"
      },
      "source": [
        "<a href=\"https://colab.research.google.com/github/elpinchepastel/Indian_Pines/blob/master/Hyperspectral_Remote_Sensing_Scenes.ipynb\" target=\"_parent\"><img src=\"https://colab.research.google.com/assets/colab-badge.svg\" alt=\"Open In Colab\"/></a>"
      ]
    },
    {
      "cell_type": "code",
      "metadata": {
        "id": "mzEiw9A1kVNZ",
        "colab_type": "code",
        "colab": {
          "base_uri": "https://localhost:8080/",
          "height": 34
        },
        "outputId": "b6efb00f-aeda-41ac-d008-65bb6af01db5"
      },
      "source": [
        "import numpy as np\n",
        "import scipy.io\n",
        "import scipy.io as sio\n",
        "from scipy import stats, optimize, interpolate\n",
        "data = scipy.io.loadmat('/content/drive/My Drive/ITM/Indian Pines/Indian_pines_corrected.mat')['indian_pines_corrected']\n",
        "print(data.shape)"
      ],
      "execution_count": 10,
      "outputs": [
        {
          "output_type": "stream",
          "text": [
            "(145, 145, 200)\n"
          ],
          "name": "stdout"
        }
      ]
    },
    {
      "cell_type": "code",
      "metadata": {
        "id": "MRJFNg0con6y",
        "colab_type": "code",
        "colab": {
          "base_uri": "https://localhost:8080/",
          "height": 34
        },
        "outputId": "2f12e45b-e147-4cf2-f1b8-8c39a11d62bd"
      },
      "source": [
        "indian_pines_gt = scipy.io.loadmat('/content/drive/My Drive/ITM/Indian Pines/Indian_pines_gt.mat')['indian_pines_gt']\n",
        "print(indian_pines_gt.shape)"
      ],
      "execution_count": 11,
      "outputs": [
        {
          "output_type": "stream",
          "text": [
            "(145, 145)\n"
          ],
          "name": "stdout"
        }
      ]
    },
    {
      "cell_type": "code",
      "metadata": {
        "id": "E7FQ2vC1rl4S",
        "colab_type": "code",
        "colab": {
          "base_uri": "https://localhost:8080/",
          "height": 52
        },
        "outputId": "d2cafc94-8186-4605-8f00-f2792897f848"
      },
      "source": [
        "print(type(data))\n",
        "print(type(indian_pines_gt))"
      ],
      "execution_count": 12,
      "outputs": [
        {
          "output_type": "stream",
          "text": [
            "<class 'numpy.ndarray'>\n",
            "<class 'numpy.ndarray'>\n"
          ],
          "name": "stdout"
        }
      ]
    },
    {
      "cell_type": "code",
      "metadata": {
        "id": "BkOMZh7iotFL",
        "colab_type": "code",
        "colab": {
          "base_uri": "https://localhost:8080/",
          "height": 34
        },
        "outputId": "1817d60d-37c4-48c7-f142-e25fe51fd015"
      },
      "source": [
        "sio.whosmat('/content/drive/My Drive/ITM/Indian Pines/Indian_pines_corrected.mat')"
      ],
      "execution_count": 13,
      "outputs": [
        {
          "output_type": "execute_result",
          "data": {
            "text/plain": [
              "[('indian_pines_corrected', (145, 145, 200), 'double')]"
            ]
          },
          "metadata": {
            "tags": []
          },
          "execution_count": 13
        }
      ]
    },
    {
      "cell_type": "code",
      "metadata": {
        "id": "CfC4pbx23rjA",
        "colab_type": "code",
        "colab": {
          "base_uri": "https://localhost:8080/",
          "height": 34
        },
        "outputId": "76b3982d-54db-43e2-f563-d3b839633a8a"
      },
      "source": [
        "sio.whosmat('/content/drive/My Drive/ITM/Indian Pines/Indian_pines_gt.mat')"
      ],
      "execution_count": 14,
      "outputs": [
        {
          "output_type": "execute_result",
          "data": {
            "text/plain": [
              "[('indian_pines_gt', (145, 145), 'double')]"
            ]
          },
          "metadata": {
            "tags": []
          },
          "execution_count": 14
        }
      ]
    },
    {
      "cell_type": "code",
      "metadata": {
        "id": "KlZ9Cp3iZhja",
        "colab_type": "code",
        "colab": {
          "base_uri": "https://localhost:8080/",
          "height": 138
        },
        "outputId": "8ca3a9ae-fd5a-4746-dee0-dfdd4aff0978"
      },
      "source": [
        "print(indian_pines_gt)"
      ],
      "execution_count": 15,
      "outputs": [
        {
          "output_type": "stream",
          "text": [
            "[[3 3 3 ... 0 0 0]\n",
            " [3 3 3 ... 0 0 0]\n",
            " [3 3 3 ... 0 0 0]\n",
            " ...\n",
            " [0 0 0 ... 0 0 0]\n",
            " [0 0 0 ... 0 0 0]\n",
            " [0 0 0 ... 0 0 0]]\n"
          ],
          "name": "stdout"
        }
      ]
    },
    {
      "cell_type": "code",
      "metadata": {
        "id": "85IhiEV0aJz6",
        "colab_type": "code",
        "colab": {
          "base_uri": "https://localhost:8080/",
          "height": 866
        },
        "outputId": "8ea2e2b9-b763-481a-f36b-5cd214d4b27f"
      },
      "source": [
        "print(data)"
      ],
      "execution_count": 16,
      "outputs": [
        {
          "output_type": "stream",
          "text": [
            "[[[3172 4142 4506 ... 1057 1020 1020]\n",
            "  [2580 4266 4502 ... 1064 1029 1020]\n",
            "  [3687 4266 4421 ... 1061 1030 1016]\n",
            "  ...\n",
            "  [2570 3890 4320 ... 1042 1021 1015]\n",
            "  [3170 4130 4320 ... 1054 1024 1020]\n",
            "  [3172 3890 4316 ... 1043 1034 1016]]\n",
            "\n",
            " [[2576 4388 4334 ... 1047 1030 1006]\n",
            "  [2747 4264 4592 ... 1055 1039 1015]\n",
            "  [2750 4268 4423 ... 1047 1026 1015]\n",
            "  ...\n",
            "  [3859 4512 4605 ... 1056 1035 1015]\n",
            "  [3686 4264 4690 ... 1051 1012 1020]\n",
            "  [2744 4268 4597 ... 1047 1019 1016]]\n",
            "\n",
            " [[2744 4146 4416 ... 1055 1029 1025]\n",
            "  [2576 4389 4416 ... 1051 1021 1011]\n",
            "  [2744 4273 4420 ... 1068 1033 1010]\n",
            "  ...\n",
            "  [2570 4266 4509 ... 1051 1025 1010]\n",
            "  [2576 4262 4496 ... 1047 1029 1020]\n",
            "  [2742 4142 4230 ... 1042 1025 1011]]\n",
            "\n",
            " ...\n",
            "\n",
            " [[3324 3728 4002 ... 1003 1004 1004]\n",
            "  [2983 3604 3829 ... 1011 1013 1008]\n",
            "  [2988 3612 3913 ... 1012 1001 1004]\n",
            "  ...\n",
            "  [2564 4115 4103 ... 1003 1005 1013]\n",
            "  [2730 4111 4103 ... 1015 1013 1004]\n",
            "  [3156 3991 4103 ... 1017 1014 1000]]\n",
            "\n",
            " [[3161 3731 3834 ... 1002 1000 1000]\n",
            "  [2727 3742 4011 ...  999  991 1003]\n",
            "  [2988 4114 4011 ... 1006 1008 1013]\n",
            "  ...\n",
            "  [3156 3858 4016 ... 1011 1004 1003]\n",
            "  [3159 3858 4100 ... 1016 1000 1000]\n",
            "  [2561 3866 4003 ... 1008 1008 1000]]\n",
            "\n",
            " [[2979 3728 3732 ... 1006 1004 1000]\n",
            "  [2977 3728 3741 ... 1007 1009  990]\n",
            "  [2814 3728 3914 ...  999 1009 1003]\n",
            "  ...\n",
            "  [3153 3864 4282 ... 1003 1008 1000]\n",
            "  [3155 4104 4106 ... 1011 1005 1003]\n",
            "  [3323 3860 4197 ... 1007 1004 1000]]]\n"
          ],
          "name": "stdout"
        }
      ]
    }
  ]
}