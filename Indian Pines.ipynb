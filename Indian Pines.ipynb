{
  "nbformat": 4,
  "nbformat_minor": 0,
  "metadata": {
    "colab": {
      "name": "Hyperspectral Remote Sensing Scenes.ipynb",
      "provenance": [],
      "collapsed_sections": [],
      "toc_visible": true,
      "mount_file_id": "https://github.com/elpinchepastel/Indian_Pines/blob/master/Hyperspectral_Remote_Sensing_Scenes.ipynb",
      "authorship_tag": "ABX9TyNeed5vAoamtAP2dVt3JcTP",
      "include_colab_link": true
    },
    "kernelspec": {
      "name": "python3",
      "display_name": "Python 3"
    },
    "accelerator": "GPU"
  },
  "cells": [
    {
      "cell_type": "markdown",
      "metadata": {
        "id": "view-in-github",
        "colab_type": "text"
      },
      "source": [
        "<a href=\"https://colab.research.google.com/github/elpinchepastel/Hyperspectral-Remote-Sensing-Scenes/blob/master/Indian%20Pines.ipynb\" target=\"_parent\"><img src=\"https://colab.research.google.com/assets/colab-badge.svg\" alt=\"Open In Colab\"/></a>"
      ]
    },
    {
      "cell_type": "markdown",
      "metadata": {
        "id": "N6EtnXPN9B3s",
        "colab_type": "text"
      },
      "source": [
        "## **Hyperspectral Image Reduction**\n",
        "\n",
        "This project is structured so:\n",
        "\n",
        "1. Import necessary libraries\n",
        "\n",
        "2. Download dataset Indian Pines (Correct and gt)\n",
        "\n",
        "3. Review of dataset structure and loading\n",
        "\n",
        "4. Visualizing ground truth\n",
        "\n",
        "5. Visualizing the bands of the Correct\n",
        "\n",
        "6. Extract pixels and class from the dataset, preparing the data for reduction\n",
        "\n",
        "7. Dimensionality Reduction (PCA)\n",
        "\n",
        "8. Classify by support vector machine (SVM)\n"
      ]
    },
    {
      "cell_type": "markdown",
      "metadata": {
        "id": "zFJkzJfyehmL",
        "colab_type": "text"
      },
      "source": [
        "## **1. Import necessary libraries**"
      ]
    },
    {
      "cell_type": "code",
      "metadata": {
        "id": "9xeGCHwxRCbl",
        "colab_type": "code",
        "colab": {
          "base_uri": "https://localhost:8080/",
          "height": 98
        },
        "outputId": "58cdff43-6436-4218-872e-0b5552645a77"
      },
      "source": [
        "%%time\n",
        "!pip install tqdm\n",
        "!pip install spectral"
      ],
      "execution_count": 1,
      "outputs": [
        {
          "output_type": "stream",
          "text": [
            "Requirement already satisfied: tqdm in /usr/local/lib/python3.6/dist-packages (4.41.1)\n",
            "Requirement already satisfied: spectral in /usr/local/lib/python3.6/dist-packages (0.22.1)\n",
            "Requirement already satisfied: numpy in /usr/local/lib/python3.6/dist-packages (from spectral) (1.18.5)\n",
            "CPU times: user 22.9 ms, sys: 13.4 ms, total: 36.3 ms\n",
            "Wall time: 5.56 s\n"
          ],
          "name": "stdout"
        }
      ]
    },
    {
      "cell_type": "code",
      "metadata": {
        "id": "mzEiw9A1kVNZ",
        "colab_type": "code",
        "colab": {}
      },
      "source": [
        "import numpy as np\n",
        "import matplotlib.patches as mpatches\n",
        "import matplotlib.pyplot as plt\n",
        "import pandas as pd\n",
        "import random\n",
        "import scipy.io\n",
        "import scipy.io as sio\n",
        "import spectral\n",
        "from IPython.display import Image\n",
        "from matplotlib.legend_handler import HandlerLine2D\n",
        "from scipy.io import loadmat\n",
        "from sklearn.decomposition import PCA\n",
        "from sklearn.metrics import classification_report, accuracy_score\n",
        "from sklearn.model_selection import train_test_split\n",
        "from sklearn.svm import SVC\n",
        "from tqdm import tqdm"
      ],
      "execution_count": 2,
      "outputs": []
    },
    {
      "cell_type": "markdown",
      "metadata": {
        "id": "fRT07D6keuK0",
        "colab_type": "text"
      },
      "source": [
        "# **2. Download dataset Indian Pines (Correct and gt)**"
      ]
    },
    {
      "cell_type": "code",
      "metadata": {
        "id": "FcKNNDod_3vk",
        "colab_type": "code",
        "colab": {
          "base_uri": "https://localhost:8080/",
          "height": 407
        },
        "outputId": "1902b686-2e88-415a-effa-f2ac04fd1c56"
      },
      "source": [
        "%%time\n",
        "!wget \"http://www.ehu.eus/ccwintco/uploads/6/67/Indian_pines_corrected.mat\"\n",
        "!wget \"http://www.ehu.eus/ccwintco/uploads/c/c4/Indian_pines_gt.mat\""
      ],
      "execution_count": 3,
      "outputs": [
        {
          "output_type": "stream",
          "text": [
            "--2020-09-15 08:53:20--  http://www.ehu.eus/ccwintco/uploads/6/67/Indian_pines_corrected.mat\n",
            "Resolving www.ehu.eus (www.ehu.eus)... 158.227.0.65, 2001:720:1410::65\n",
            "Connecting to www.ehu.eus (www.ehu.eus)|158.227.0.65|:80... connected.\n",
            "HTTP request sent, awaiting response... 200 OK\n",
            "Length: 5953527 (5.7M) [text/plain]\n",
            "Saving to: ‘Indian_pines_corrected.mat’\n",
            "\n",
            "Indian_pines_correc 100%[===================>]   5.68M   763KB/s    in 8.9s    \n",
            "\n",
            "2020-09-15 08:53:29 (656 KB/s) - ‘Indian_pines_corrected.mat’ saved [5953527/5953527]\n",
            "\n",
            "--2020-09-15 08:53:29--  http://www.ehu.eus/ccwintco/uploads/c/c4/Indian_pines_gt.mat\n",
            "Resolving www.ehu.eus (www.ehu.eus)... 158.227.0.65, 2001:720:1410::65\n",
            "Connecting to www.ehu.eus (www.ehu.eus)|158.227.0.65|:80... connected.\n",
            "HTTP request sent, awaiting response... 200 OK\n",
            "Length: 1125 (1.1K) [text/plain]\n",
            "Saving to: ‘Indian_pines_gt.mat’\n",
            "\n",
            "Indian_pines_gt.mat 100%[===================>]   1.10K  --.-KB/s    in 0s      \n",
            "\n",
            "2020-09-15 08:53:29 (147 MB/s) - ‘Indian_pines_gt.mat’ saved [1125/1125]\n",
            "\n",
            "CPU times: user 61.3 ms, sys: 30.9 ms, total: 92.2 ms\n",
            "Wall time: 9.88 s\n"
          ],
          "name": "stdout"
        }
      ]
    },
    {
      "cell_type": "code",
      "metadata": {
        "id": "62r2K095AX6v",
        "colab_type": "code",
        "colab": {
          "base_uri": "https://localhost:8080/",
          "height": 33
        },
        "outputId": "dfe63980-192a-4356-fce4-e002209285d7"
      },
      "source": [
        "# Verify that the \".mat\" type dataset is downloaded locally\n",
        "!ls"
      ],
      "execution_count": 4,
      "outputs": [
        {
          "output_type": "stream",
          "text": [
            "Indian_pines_corrected.mat  Indian_pines_gt.mat  sample_data\n"
          ],
          "name": "stdout"
        }
      ]
    },
    {
      "cell_type": "markdown",
      "metadata": {
        "id": "GtjrcxcafExE",
        "colab_type": "text"
      },
      "source": [
        "## **3. Review of dataset structure and loading**"
      ]
    },
    {
      "cell_type": "code",
      "metadata": {
        "id": "U_4KfD_k9v7y",
        "colab_type": "code",
        "colab": {
          "base_uri": "https://localhost:8080/",
          "height": 50
        },
        "outputId": "0a52512e-e91f-4951-e4bd-39a84c88ce75"
      },
      "source": [
        "# Data types for the dataset\n",
        "correct = loadmat('Indian_pines_corrected.mat')\n",
        "gt = loadmat('Indian_pines_gt.mat')\n",
        "print(type(correct))\n",
        "print(type(gt))"
      ],
      "execution_count": 5,
      "outputs": [
        {
          "output_type": "stream",
          "text": [
            "<class 'dict'>\n",
            "<class 'dict'>\n"
          ],
          "name": "stdout"
        }
      ]
    },
    {
      "cell_type": "code",
      "metadata": {
        "id": "1WBQ-_HeBw9o",
        "colab_type": "code",
        "colab": {
          "base_uri": "https://localhost:8080/",
          "height": 50
        },
        "outputId": "f67ade2e-aa7e-4fd5-f81f-ad08fc1f95fb"
      },
      "source": [
        "# The keys of the dictionary\n",
        "print(f'Dictionary Indian Pines Correct: {correct.keys()}\\nDictionary Indian Pines Ground truth: {gt.keys()}')"
      ],
      "execution_count": 6,
      "outputs": [
        {
          "output_type": "stream",
          "text": [
            "Dictionary Indian Pines Correct: dict_keys(['__header__', '__version__', '__globals__', 'indian_pines_corrected'])\n",
            "Dictionary Indian Pines Ground truth: dict_keys(['__header__', '__version__', '__globals__', 'indian_pines_gt'])\n"
          ],
          "name": "stdout"
        }
      ]
    },
    {
      "cell_type": "code",
      "metadata": {
        "id": "aM7ie0Xj-NGm",
        "colab_type": "code",
        "colab": {}
      },
      "source": [
        "# Read the dataset\n",
        "def dataset(correct, gt):\n",
        "  dataset_correct = scipy.io.loadmat('Indian_pines_corrected.mat')['indian_pines_corrected']\n",
        "  dataset_gt = scipy.io.loadmat('Indian_pines_gt.mat')['indian_pines_gt']\n",
        "  return dataset_correct, dataset_gt"
      ],
      "execution_count": 7,
      "outputs": []
    },
    {
      "cell_type": "code",
      "metadata": {
        "id": "TP5kiKxgihag",
        "colab_type": "code",
        "colab": {
          "base_uri": "https://localhost:8080/",
          "height": 50
        },
        "outputId": "e39e9c05-1208-4156-9de2-26817af7491a"
      },
      "source": [
        "dataset_correct, dataset_gt = dataset(correct, gt)\n",
        "print(f'Correct: {dataset_correct.shape}\\nGround Truth: {dataset_gt.shape}')"
      ],
      "execution_count": 8,
      "outputs": [
        {
          "output_type": "stream",
          "text": [
            "Correct: (145, 145, 200)\n",
            "Ground Truth: (145, 145)\n"
          ],
          "name": "stdout"
        }
      ]
    },
    {
      "cell_type": "code",
      "metadata": {
        "id": "E7FQ2vC1rl4S",
        "colab_type": "code",
        "colab": {
          "base_uri": "https://localhost:8080/",
          "height": 50
        },
        "outputId": "0c49737f-2d9c-4abf-b508-3015c437bf1f"
      },
      "source": [
        "print(type(dataset_correct))\n",
        "print(type(dataset_gt))"
      ],
      "execution_count": 9,
      "outputs": [
        {
          "output_type": "stream",
          "text": [
            "<class 'numpy.ndarray'>\n",
            "<class 'numpy.ndarray'>\n"
          ],
          "name": "stdout"
        }
      ]
    },
    {
      "cell_type": "code",
      "metadata": {
        "id": "1dNI2SWalMQm",
        "colab_type": "code",
        "colab": {
          "base_uri": "https://localhost:8080/",
          "height": 53
        },
        "outputId": "4378c7f1-a4e5-44be-95f9-ad2b802d6876"
      },
      "source": [
        "dict_k = {}\n",
        "for i in range(dataset_gt.shape[0]):\n",
        "    for j in range(dataset_gt.shape[1]):\n",
        "         if dataset_gt[i][j] in [0,1, 2, 3, 4, 5, 6, 7, 8, 9, 10, 11, 12, 13, 14, 15, 16]:\n",
        "            if dataset_gt[i][j] not in dict_k:\n",
        "                dict_k[dataset_gt[i][j]]=0\n",
        "            dict_k[dataset_gt[i][j]] +=1\n",
        "            \n",
        "sortedDict = sorted(dict_k.items())\n",
        "print(sortedDict)"
      ],
      "execution_count": 10,
      "outputs": [
        {
          "output_type": "stream",
          "text": [
            "[(0, 10776), (1, 46), (2, 1428), (3, 830), (4, 237), (5, 483), (6, 730), (7, 28), (8, 478), (9, 20), (10, 972), (11, 2455), (12, 593), (13, 205), (14, 1265), (15, 386), (16, 93)]\n"
          ],
          "name": "stdout"
        }
      ]
    },
    {
      "cell_type": "markdown",
      "metadata": {
        "id": "TEF3z5e-EvP1",
        "colab_type": "text"
      },
      "source": [
        "## **4. Visualizing ground truth**"
      ]
    },
    {
      "cell_type": "code",
      "metadata": {
        "id": "UQHVjk6woepq",
        "colab_type": "code",
        "colab": {}
      },
      "source": [
        "# Colors and names for each category in the dataset\n",
        "def colors_names():\n",
        "  gt_color = np.array([\n",
        "                      [255,   255,    255], #Backgroud\n",
        "                      [0,     0,      255], #Alfalfa\n",
        "                      [0,     64,     255], #Corn-notill\n",
        "                      [0,     128,    255], #Corn-mintill\n",
        "                      [0,     191,    255], #Corn\n",
        "                      [0,     255,    255], #Grass-pasture\n",
        "                      [64,    255,    191], #Grass-trees\n",
        "                      [128,   255,    128], #Grass-pasture-mowed\n",
        "                      [191,   255,    64],  #Hay-windrowed\n",
        "                      [255,   255,    0],   #Oats\n",
        "                      [255,   191,    0],   #Soybean-notill\n",
        "                      [255,   128,    0],   #Soybean-mintill\n",
        "                      [255,   64,     0],   #Soybean-clean\n",
        "                      [255,   64,     0],   #Wheat\n",
        "                      [255,   0,      0],   #Woods\n",
        "                      [191,   0,      0],   #Buildings-Grass-Trees-Drives\n",
        "                      [128,   0,      0],   #Stone-Steel-Towers\n",
        "                       ])\n",
        "  indianpines_class_names = [\n",
        "                            'Background',\n",
        "                            'Alfalfa',\n",
        "                            'Corn-notill',\n",
        "                            'Corn-min',\n",
        "                            'Corn',\n",
        "                            'Grass/pasture',\n",
        "                            'Grass/trees',\n",
        "                            'Grass/pasture-mowed',\n",
        "                            'Hay-windrowed',\n",
        "                            'Oats',\n",
        "                            'Soybeans-notill',\n",
        "                            'Soybeans-min',\n",
        "                            'Soybean-clean',\n",
        "                            'Wheat',\n",
        "                            'Woods',\n",
        "                            'Bldg-grass-tree-drives',\n",
        "                            'Stone-steel towers'\n",
        "                            ]\n",
        "  gt_color_eventplot = gt_color/255\n",
        "  return gt_color, gt_color_eventplot, indianpines_class_names"
      ],
      "execution_count": 11,
      "outputs": []
    },
    {
      "cell_type": "code",
      "metadata": {
        "id": "kc_-hBs3-HdL",
        "colab_type": "code",
        "colab": {
          "base_uri": "https://localhost:8080/",
          "height": 520
        },
        "outputId": "9dc1f254-3105-467c-8722-12a3645fbd11"
      },
      "source": [
        "# Display of the \"Ground truth\" image\n",
        "gt_color, gt_color_eventplot, indianpines_class_names = colors_names()\n",
        "ground_truth = spectral.imshow(classes = dataset_gt.astype(int), figsize =(9,9),colors=gt_color, interpolation='nearest')\n",
        "plt.title('Indian Pines Ground Truth - Dataset', fontsize=24)\n",
        "plt.colorbar(ticks= range(0,17))\n",
        "plt.xticks([])\n",
        "plt.yticks([])\n",
        "plt.savefig('Indian Pines Ground Truth.TIF')"
      ],
      "execution_count": 13,
      "outputs": [
        {
          "output_type": "display_data",
          "data": {
            "image/png": "[encoded data removed]",
            "text/plain": [
              "<Figure size 648x648 with 2 Axes>"
            ]
          },
          "metadata": {
            "tags": [],
            "needs_background": "light"
          }
        }
      ]
    },
    {
      "cell_type": "code",
      "metadata": {
        "id": "yKducC6j9P3Z",
        "colab_type": "code",
        "colab": {
          "base_uri": "https://localhost:8080/",
          "height": 442
        },
        "outputId": "7d5eab46-aa4a-464a-a538-13013b94154c"
      },
      "source": [
        "ground_truth = spectral.imshow(classes = dataset_gt.astype(int), figsize =(9,9),colors=gt_color, interpolation='nearest')\n",
        "plt.title('Indian Pines Ground Truth - Dataset', fontsize=24)\n",
        "patches = [mpatches.Patch(color=gt_color_eventplot[i], label=indianpines_class_names[i]) for i in range(len(gt_color_eventplot))]\n",
        "plt.legend(handles=patches, bbox_to_anchor=(1.05, 1.0), loc='upper left', facecolor='silver', fontsize=13.5, title=\"Number of samples per class:\")\n",
        "plt.tight_layout()\n",
        "plt.xticks([])\n",
        "plt.yticks([])\n",
        "plt.savefig('Samples and number Indian Pines Ground Truth.TIF')"
      ],
      "execution_count": 14,
      "outputs": [
        {
          "output_type": "display_data",
          "data": {
            "image/png": "[encoded data removed]",
            "text/plain": [
              "<Figure size 648x648 with 1 Axes>"
            ]
          },
          "metadata": {
            "tags": []
          }
        }
      ]
    },
    {
      "cell_type": "markdown",
      "metadata": {
        "id": "tvlvvsmbfhBQ",
        "colab_type": "text"
      },
      "source": [
        "## **5. Visualizing the bands of the Hyperspectral Correct**"
      ]
    },
    {
      "cell_type": "code",
      "metadata": {
        "id": "x-7Lv1uJzQUB",
        "colab_type": "code",
        "colab": {}
      },
      "source": [
        "# Display of the \"Correct\" image on one band\n",
        "print('Enter the band number of the image you want to view (The number to be between 0 and 199): ')\n",
        "band = int(input())\n",
        "one_band = dataset_correct[:, :, band]\n",
        "plt.figure(figsize=(16, 9))\n",
        "plt.imshow(one_band, cmap = \"nipy_spectral\")\n",
        "plt.title(f'Indian Pines Correct - Band No. {band}', fontsize=24)\n",
        "plt.xticks([])\n",
        "plt.yticks([])\n",
        "plt.colorbar()\n",
        "plt.show()"
      ],
      "execution_count": null,
      "outputs": []
    },
    {
      "cell_type": "code",
      "metadata": {
        "id": "uIv-UPtvL38b",
        "colab_type": "code",
        "colab": {}
      },
      "source": [
        "# Display of the \"Correct\" image on one band random\n",
        "fig=plt.figure(figsize=(32, 18))\n",
        "columns = 5\n",
        "rows = 2\n",
        "for i in range(1, columns*rows +1):\n",
        "    fig.add_subplot(rows, columns, i)\n",
        "    band_aleatory = random.randrange(199)\n",
        "    one_band = dataset_correct[:, :, band_aleatory]\n",
        "    plt.imshow(one_band, cmap = \"nipy_spectral\")\n",
        "    plt.title(f'Indian Pines Correct - Band No. {band_aleatory}', fontsize=16)\n",
        "    plt.xticks([])\n",
        "    plt.yticks([])\n",
        "plt.show()"
      ],
      "execution_count": null,
      "outputs": []
    },
    {
      "cell_type": "markdown",
      "metadata": {
        "id": "uM27eFUrgVgK",
        "colab_type": "text"
      },
      "source": [
        "## **6.  Extract pixels and class from the dataset, preparing the data for reduction**"
      ]
    },
    {
      "cell_type": "code",
      "metadata": {
        "id": "J1fjsDhLTmsj",
        "colab_type": "code",
        "colab": {}
      },
      "source": [
        "# Extract pixels and class labels from hyperspectral image correct\n",
        "def extract_pixels(dataset_correct, dataset_gt):\n",
        "    df = pd.DataFrame()\n",
        "    for i in tqdm(range(dataset_correct.shape[2])):\n",
        "        df = pd.concat([df, pd.DataFrame(dataset_correct[:, :, i].ravel())], axis=1)\n",
        "    df = pd.concat([df, pd.DataFrame(dataset_gt.ravel())], axis=1)\n",
        "    df.columns = [f'band-{i}' for i in range(1, 1+dataset_correct.shape[2])]+['class']\n",
        "    return df\n",
        "df = extract_pixels(dataset_correct, dataset_gt)"
      ],
      "execution_count": null,
      "outputs": []
    },
    {
      "cell_type": "code",
      "metadata": {
        "id": "Rnq3DGgkUDio",
        "colab_type": "code",
        "colab": {}
      },
      "source": [
        "# Print and save data\n",
        "df.to_csv('Dataset.csv', index=False)\n",
        "df.head()"
      ],
      "execution_count": null,
      "outputs": []
    },
    {
      "cell_type": "code",
      "metadata": {
        "id": "lvH8y6Hp1zav",
        "colab_type": "code",
        "colab": {}
      },
      "source": [
        "# Verify the save data locally\n",
        "!ls"
      ],
      "execution_count": null,
      "outputs": []
    },
    {
      "cell_type": "code",
      "metadata": {
        "id": "rA0ncOyWz0Q_",
        "colab_type": "code",
        "colab": {}
      },
      "source": [
        "# Indexation of 145 x 145 of the first two components\n",
        "def indexation(dataset_correct, dataset_gt):\n",
        "  dataset_correct = df.iloc[:, :-1].values\n",
        "  dataset_gt = df.iloc[:, -1].values\n",
        "  return dataset_correct, dataset_gt"
      ],
      "execution_count": null,
      "outputs": []
    },
    {
      "cell_type": "code",
      "metadata": {
        "id": "mJhEaSykNR-I",
        "colab_type": "code",
        "colab": {}
      },
      "source": [
        "dataset_correct, dataset_gt = indexation(dataset_correct, dataset_gt)\n",
        "print(f'Size Indian Pines Correct: {dataset_correct.shape}\\nSize Indian Pines Ground truth: {dataset_gt.shape}')"
      ],
      "execution_count": null,
      "outputs": []
    },
    {
      "cell_type": "markdown",
      "metadata": {
        "id": "RHNd6UV-hZzH",
        "colab_type": "text"
      },
      "source": [
        "## **7. Dimensionality Reduction (PCA)**"
      ]
    },
    {
      "cell_type": "code",
      "metadata": {
        "id": "Elq-ozBtYIfz",
        "colab_type": "code",
        "colab": {}
      },
      "source": [
        "%%time\n",
        "def method_PCA(n_components):\n",
        "  pca = PCA(n_components = n_components)\n",
        "  principalComponents = pca.fit_transform(dataset_correct)\n",
        "  return principalComponents\n",
        "  #print(f\"Size Indian Pines Correct Reduced: {principalComponents.shape}\")"
      ],
      "execution_count": null,
      "outputs": []
    },
    {
      "cell_type": "code",
      "metadata": {
        "id": "uBXmU1WTYck3",
        "colab_type": "code",
        "colab": {}
      },
      "source": [
        "print(\"Enter the band number of the image you want to reduce (the number must be less than 199): \")\n",
        "n_components = int(input())\n",
        "principalComponents = method_PCA(n_components)\n",
        "print(f\"Size Indian Pines Correct Reduced: {principalComponents.shape}\")"
      ],
      "execution_count": null,
      "outputs": []
    },
    {
      "cell_type": "code",
      "metadata": {
        "id": "edgDFBGRVCU5",
        "colab_type": "code",
        "colab": {}
      },
      "source": [
        "#Reversal of Indexing\n",
        "dataset_correct_reduced = np.reshape(principalComponents, (145, 145, n_components))\n",
        "print(f\"Size Indian Pines Correct Reduced: {dataset_correct_reduced.shape}\")"
      ],
      "execution_count": null,
      "outputs": []
    },
    {
      "cell_type": "code",
      "metadata": {
        "id": "8NnJqM46YDwo",
        "colab_type": "code",
        "colab": {}
      },
      "source": [
        "# Display of the \"Correct\" image on one band\n",
        "print(f'Enter the band number of the image you want to view (The number to be between 0 and {n_components}): ')\n",
        "band = int(input())\n",
        "one_band = dataset_correct_reduced[:, :, band]\n",
        "plt.figure(figsize=(16, 9))\n",
        "plt.imshow(one_band, cmap = \"gray\")\n",
        "plt.title(f'Indian Pines Correct Reduced- Band No. {band}', fontsize=24)\n",
        "plt.xticks([])\n",
        "plt.yticks([])\n",
        "plt.show()"
      ],
      "execution_count": null,
      "outputs": []
    },
    {
      "cell_type": "code",
      "metadata": {
        "id": "3Ak-gk_oWQYi",
        "colab_type": "code",
        "colab": {}
      },
      "source": [
        "# Displaying the \"Reduced Correct\" image in the first ten bands\n",
        "fig=plt.figure(figsize=(32, 18))\n",
        "columns = 5\n",
        "rows = 2\n",
        "for i in range(1, columns*rows +1):\n",
        "    fig.add_subplot(rows, columns, i)\n",
        "    I = i-1\n",
        "    one_band = dataset_correct_reduced[:, :, I]\n",
        "    plt.imshow(one_band, cmap = \"gray\")\n",
        "    plt.title(f'Indian Pines Correct Reduced - Band No. {I}', fontsize=14)\n",
        "    plt.xticks([])\n",
        "    plt.yticks([])\n",
        "plt.show()"
      ],
      "execution_count": null,
      "outputs": []
    },
    {
      "cell_type": "markdown",
      "metadata": {
        "id": "UbUYSv-gXddh",
        "colab_type": "text"
      },
      "source": [
        "## **8. Classify by support vector machine (SVM)**"
      ]
    },
    {
      "cell_type": "code",
      "metadata": {
        "id": "qudL44xdpxXH",
        "colab_type": "code",
        "colab": {}
      },
      "source": [
        "# Split the reduced data through training and testing\n",
        "dataset_correct_train, dataset_correct_test, dataset_gt_train, dataset_gt_test, indices_train, indices_test  = train_test_split(principalComponents, dataset_gt,  range(dataset_correct.shape[0]), \n",
        "                                                                                  test_size = 0.15, random_state = 11)\n",
        "\n",
        "dataset_correct_train.shape, dataset_correct_test.shape"
      ],
      "execution_count": null,
      "outputs": []
    },
    {
      "cell_type": "code",
      "metadata": {
        "id": "56NBT51WrGF6",
        "colab_type": "code",
        "colab": {}
      },
      "source": [
        "# Select a classifier\n",
        "k = input(\"Enter a classifier:\\nrbf = 1\\nlinear = 2\\npoly = 3\\nsigmoid = 4\\n\")"
      ],
      "execution_count": null,
      "outputs": []
    },
    {
      "cell_type": "code",
      "metadata": {
        "id": "uI27dAYcd9jD",
        "colab_type": "code",
        "colab": {}
      },
      "source": [
        "def classifier(k):\n",
        "  if k == \"1\":\n",
        "    k = \"rbf\"\n",
        "  else:\n",
        "    if k == \"2\":\n",
        "      k = \"linear\"\n",
        "    else:\n",
        "      if k == \"3\":\n",
        "        k = \"poly\"\n",
        "      else:\n",
        "        if k == \"4\":\n",
        "          k = \"sigmoid\"\n",
        "        else:\n",
        "          print(\"Select the correct option:\")\n",
        "  return k"
      ],
      "execution_count": null,
      "outputs": []
    },
    {
      "cell_type": "code",
      "metadata": {
        "id": "YwH0zVfUqzVH",
        "colab_type": "code",
        "colab": {}
      },
      "source": [
        "# Implementing support vector machine (SVM) using a classifier\n",
        "%%time\n",
        "k = classifier(k)\n",
        "svm = SVC(kernel=k, degree = 10, gamma='scale', cache_size=1024*7)\n",
        "svm.fit(dataset_correct_train, dataset_gt_train)"
      ],
      "execution_count": null,
      "outputs": []
    },
    {
      "cell_type": "code",
      "metadata": {
        "id": "K0k8eKRJrxNu",
        "colab_type": "code",
        "colab": {}
      },
      "source": [
        "# Gt prediction implementation\n",
        "dataset_gt_pred = svm.predict(dataset_correct_test)\n",
        "pre = dataset_gt_pred\n",
        "\n",
        "clmap = [0]*dataset_correct.shape[0]\n",
        "\n",
        "for i in tqdm(range(len(indices_train))):\n",
        "    clmap[indices_train[i]] = dataset_gt[indices_train[i]]\n",
        "\n",
        "for i in tqdm(range(len(indices_test))):\n",
        "    clmap[indices_test[i]] = pre[i]"
      ],
      "execution_count": null,
      "outputs": []
    },
    {
      "cell_type": "code",
      "metadata": {
        "id": "AU8ej1Wmu8eP",
        "colab_type": "code",
        "colab": {}
      },
      "source": [
        "print(f'Accuracy: {accuracy_score(dataset_gt_test,dataset_gt_pred)}%')"
      ],
      "execution_count": null,
      "outputs": []
    },
    {
      "cell_type": "code",
      "metadata": {
        "id": "36vhkwCxK7Ap",
        "colab_type": "code",
        "colab": {}
      },
      "source": [
        "# Displaying the \"Indian Pines Ground Truth\" and \"Indian Pines PCA + SVM\"\n",
        "dataset_correct, dataset_gt = dataset(correct, gt)\n",
        "plt.rcParams['figure.figsize'] = [16, 9]\n",
        "plt.subplot(1,2,1)\n",
        "plt.imshow(dataset_gt, cmap='nipy_spectral')\n",
        "plt.xticks([])\n",
        "plt.yticks([])\n",
        "plt.title('Indian Pines Ground Truth')\n",
        "plt.colorbar(shrink=0.671)\n",
        "\n",
        "plt.subplot(1,2,2)\n",
        "plt.imshow(np.array(clmap).reshape((145, 145)), cmap='nipy_spectral')\n",
        "plt.xticks([])\n",
        "plt.yticks([])\n",
        "plt.title('Classification (PCA + SVM)')\n",
        "plt.colorbar(shrink=0.671)"
      ],
      "execution_count": null,
      "outputs": []
    },
    {
      "cell_type": "code",
      "metadata": {
        "id": "21G_PS_0aotz",
        "colab_type": "code",
        "colab": {}
      },
      "source": [
        "print('Classification report:\\n',classification_report(dataset_gt_test,dataset_gt_pred))"
      ],
      "execution_count": null,
      "outputs": []
    },
    {
      "cell_type": "code",
      "metadata": {
        "id": "D--IE4myok2N",
        "colab_type": "code",
        "colab": {}
      },
      "source": [
        "dataset_correct, dataset_gt = indexation(dataset_correct, dataset_gt)\n",
        "dataset_correct_train, dataset_correct_test, dataset_gt_train, dataset_gt_test = train_test_split(dataset_correct, dataset_gt,  test_size=0.30, random_state=11)\n",
        "\n",
        "dataset_correct_train.shape, dataset_correct_test.shape"
      ],
      "execution_count": null,
      "outputs": []
    },
    {
      "cell_type": "code",
      "metadata": {
        "id": "DooXEJMLpE0w",
        "colab_type": "code",
        "colab": {}
      },
      "source": [
        "k = input(\"Enter a classifier:\\nrbf = 1\\nlinear = 2\\npoly = 3\\nsigmoid = 4\\n\")\n",
        "k = classifier(k)\n",
        "#%%time\n",
        "svm = SVC(kernel=k, degree = 10, gamma='scale', cache_size=1024*7)\n",
        "svm.fit(dataset_correct_train, dataset_gt_train)"
      ],
      "execution_count": null,
      "outputs": []
    },
    {
      "cell_type": "code",
      "metadata": {
        "id": "tir9igY2q1tp",
        "colab_type": "code",
        "colab": {}
      },
      "source": [
        "svm.fit(dataset_correct_train, dataset_gt_train)\n",
        "pred = svm.predict(dataset_correct)"
      ],
      "execution_count": null,
      "outputs": []
    },
    {
      "cell_type": "code",
      "metadata": {
        "id": "5SW1Y6AQrqYl",
        "colab_type": "code",
        "colab": {}
      },
      "source": [
        "output=np.reshape(pred,(145,145))"
      ],
      "execution_count": null,
      "outputs": []
    },
    {
      "cell_type": "code",
      "metadata": {
        "id": "fckvMTter0Y9",
        "colab_type": "code",
        "colab": {}
      },
      "source": [
        "# Displaying the \"Indian Pines Ground Truth\" and \"Indian Pines PCA + SVM\"\n",
        "dataset_correct, dataset_gt = dataset(correct, gt)\n",
        "plt.rcParams['figure.figsize'] = [16, 9]\n",
        "plt.subplot(1,2,1)\n",
        "plt.imshow(dataset_gt, cmap='nipy_spectral')\n",
        "plt.xticks([])\n",
        "plt.yticks([])\n",
        "plt.title('Indian Pines Ground Truth')\n",
        "plt.colorbar(shrink=0.671)\n",
        "\n",
        "plt.subplot(1,2,2)\n",
        "plt.imshow(output, cmap=\"nipy_spectral\")\n",
        "plt.xticks([])\n",
        "plt.yticks([])\n",
        "plt.title('Classification (SVM)')\n",
        "plt.colorbar(shrink=0.671)"
      ],
      "execution_count": null,
      "outputs": []
    }
  ]
}